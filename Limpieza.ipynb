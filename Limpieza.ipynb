{
 "cells": [
  {
   "attachments": {},
   "cell_type": "markdown",
   "metadata": {},
   "source": [
    " # Importación de paquetes iniciales"
   ]
  },
  {
   "cell_type": "code",
   "execution_count": 29,
   "metadata": {},
   "outputs": [],
   "source": [
    "import logging\n",
    "import os\n",
    "\n",
    "import pandas as pd\n",
    "import requests\n",
    "import seaborn as sns\n",
    "import matplotlib.pyplot as plt"
   ]
  },
  {
   "attachments": {},
   "cell_type": "markdown",
   "metadata": {},
   "source": [
    " # Configuración del sistema de excepciones y logs\n",
    " Se van a almacenar en una carpeta en el root según las indicaciones de la prueba"
   ]
  },
  {
   "cell_type": "code",
   "execution_count": 30,
   "metadata": {},
   "outputs": [
    {
     "name": "stderr",
     "output_type": "stream",
     "text": [
      "2023-05-21 23:02:38,968 - INFO - 18 - Prueba de mensaje informativo\n",
      "2023-05-21 23:02:38,970 - WARNING - 19 - Prueba de mensaje de advertencia\n",
      "2023-05-21 23:02:38,973 - ERROR - 20 - Prueba de mensaje de error\n"
     ]
    }
   ],
   "source": [
    "# Crear un directorio de registros si no existe\n",
    "log_dir = \"logs\"\n",
    "os.makedirs(log_dir, exist_ok=True)\n",
    "\n",
    "# Ajustar la configuración de registro\n",
    "log_file = os.path.join(log_dir, \"application_limpieza.log\")\n",
    "logging.basicConfig(\n",
    "    level=logging.INFO, format=\"%(asctime)s - %(levelname)s - %(lineno)s - %(message)s\"\n",
    ")\n",
    "file_handler = logging.FileHandler(log_file, \"w\")\n",
    "file_handler.setLevel(logging.INFO)\n",
    "file_handler.setFormatter(\n",
    "    logging.Formatter(\"%(asctime)s - %(levelname)s - %(lineno)s - %(message)s\")\n",
    ")\n",
    "logging.getLogger().addHandler(file_handler)\n",
    "\n",
    "logging.debug(\"Prueba de mensaje de depuración\")\n",
    "logging.info(\"Prueba de mensaje informativo\")\n",
    "logging.warning(\"Prueba de mensaje de advertencia\")\n",
    "logging.error(\"Prueba de mensaje de error\")\n"
   ]
  },
  {
   "cell_type": "code",
   "execution_count": 31,
   "metadata": {},
   "outputs": [
    {
     "data": {
      "text/html": [
       "<div>\n",
       "<style scoped>\n",
       "    .dataframe tbody tr th:only-of-type {\n",
       "        vertical-align: middle;\n",
       "    }\n",
       "\n",
       "    .dataframe tbody tr th {\n",
       "        vertical-align: top;\n",
       "    }\n",
       "\n",
       "    .dataframe thead th {\n",
       "        text-align: right;\n",
       "    }\n",
       "</style>\n",
       "<table border=\"1\" class=\"dataframe\">\n",
       "  <thead>\n",
       "    <tr style=\"text-align: right;\">\n",
       "      <th></th>\n",
       "      <th>TRANSACTIONID</th>\n",
       "      <th>FLIGHTDATE</th>\n",
       "      <th>AIRLINECODE</th>\n",
       "      <th>AIRLINENAME</th>\n",
       "      <th>TAILNUM</th>\n",
       "      <th>FLIGHTNUM</th>\n",
       "      <th>ORIGINAIRPORTCODE</th>\n",
       "      <th>ORIGAIRPORTNAME</th>\n",
       "      <th>ORIGINCITYNAME</th>\n",
       "      <th>ORIGINSTATE</th>\n",
       "      <th>...</th>\n",
       "      <th>WHEELSON</th>\n",
       "      <th>TAXIIN</th>\n",
       "      <th>CRSARRTIME</th>\n",
       "      <th>ARRTIME</th>\n",
       "      <th>ARRDELAY</th>\n",
       "      <th>CRSELAPSEDTIME</th>\n",
       "      <th>ACTUALELAPSEDTIME</th>\n",
       "      <th>CANCELLED</th>\n",
       "      <th>DIVERTED</th>\n",
       "      <th>DISTANCE</th>\n",
       "    </tr>\n",
       "  </thead>\n",
       "  <tbody>\n",
       "    <tr>\n",
       "      <th>0</th>\n",
       "      <td>54548800</td>\n",
       "      <td>20020101</td>\n",
       "      <td>WN</td>\n",
       "      <td>Southwest Airlines Co.: WN</td>\n",
       "      <td>N103@@</td>\n",
       "      <td>1425</td>\n",
       "      <td>ABQ</td>\n",
       "      <td>AlbuquerqueNM: Albuquerque International Sunport</td>\n",
       "      <td>Albuquerque</td>\n",
       "      <td>NM</td>\n",
       "      <td>...</td>\n",
       "      <td>1648.0</td>\n",
       "      <td>4.0</td>\n",
       "      <td>1655</td>\n",
       "      <td>1652.0</td>\n",
       "      <td>-3.0</td>\n",
       "      <td>90.0</td>\n",
       "      <td>87.0</td>\n",
       "      <td>F</td>\n",
       "      <td>False</td>\n",
       "      <td>580 miles</td>\n",
       "    </tr>\n",
       "    <tr>\n",
       "      <th>1</th>\n",
       "      <td>55872300</td>\n",
       "      <td>20020101</td>\n",
       "      <td>CO</td>\n",
       "      <td>Continental Air Lines Inc.: CO</td>\n",
       "      <td>N83872</td>\n",
       "      <td>150</td>\n",
       "      <td>ABQ</td>\n",
       "      <td>AlbuquerqueNM: Albuquerque International Sunport</td>\n",
       "      <td>Albuquerque</td>\n",
       "      <td>NM</td>\n",
       "      <td>...</td>\n",
       "      <td>1419.0</td>\n",
       "      <td>16.0</td>\n",
       "      <td>1426</td>\n",
       "      <td>1435.0</td>\n",
       "      <td>9.0</td>\n",
       "      <td>116.0</td>\n",
       "      <td>119.0</td>\n",
       "      <td>False</td>\n",
       "      <td>F</td>\n",
       "      <td>744 miles</td>\n",
       "    </tr>\n",
       "    <tr>\n",
       "      <th>2</th>\n",
       "      <td>54388800</td>\n",
       "      <td>20020101</td>\n",
       "      <td>WN</td>\n",
       "      <td>Southwest Airlines Co.: WN</td>\n",
       "      <td>N334@@</td>\n",
       "      <td>249</td>\n",
       "      <td>ABQ</td>\n",
       "      <td>AlbuquerqueNM: Albuquerque International Sunport</td>\n",
       "      <td>Albuquerque</td>\n",
       "      <td>NM</td>\n",
       "      <td>...</td>\n",
       "      <td>1618.0</td>\n",
       "      <td>2.0</td>\n",
       "      <td>1500</td>\n",
       "      <td>1620.0</td>\n",
       "      <td>80.0</td>\n",
       "      <td>105.0</td>\n",
       "      <td>102.0</td>\n",
       "      <td>F</td>\n",
       "      <td>False</td>\n",
       "      <td>718 miles</td>\n",
       "    </tr>\n",
       "    <tr>\n",
       "      <th>3</th>\n",
       "      <td>54486500</td>\n",
       "      <td>20020101</td>\n",
       "      <td>WN</td>\n",
       "      <td>Southwest Airlines Co.: WN</td>\n",
       "      <td>N699@@</td>\n",
       "      <td>902</td>\n",
       "      <td>ABQ</td>\n",
       "      <td>AlbuquerqueNM: Albuquerque International Sunport</td>\n",
       "      <td>Albuquerque</td>\n",
       "      <td>NM</td>\n",
       "      <td>...</td>\n",
       "      <td>1947.0</td>\n",
       "      <td>1.0</td>\n",
       "      <td>1950</td>\n",
       "      <td>1948.0</td>\n",
       "      <td>-2.0</td>\n",
       "      <td>85.0</td>\n",
       "      <td>83.0</td>\n",
       "      <td>0</td>\n",
       "      <td>0</td>\n",
       "      <td>487 miles</td>\n",
       "    </tr>\n",
       "    <tr>\n",
       "      <th>4</th>\n",
       "      <td>55878700</td>\n",
       "      <td>20020103</td>\n",
       "      <td>CO</td>\n",
       "      <td>Continental Air Lines Inc.: CO</td>\n",
       "      <td>N58606</td>\n",
       "      <td>234</td>\n",
       "      <td>ABQ</td>\n",
       "      <td>AlbuquerqueNM: Albuquerque International Sunport</td>\n",
       "      <td>Albuquerque</td>\n",
       "      <td>NM</td>\n",
       "      <td>...</td>\n",
       "      <td>1742.0</td>\n",
       "      <td>5.0</td>\n",
       "      <td>1750</td>\n",
       "      <td>1747.0</td>\n",
       "      <td>-3.0</td>\n",
       "      <td>115.0</td>\n",
       "      <td>114.0</td>\n",
       "      <td>F</td>\n",
       "      <td>False</td>\n",
       "      <td>744 miles</td>\n",
       "    </tr>\n",
       "  </tbody>\n",
       "</table>\n",
       "<p>5 rows × 31 columns</p>\n",
       "</div>"
      ],
      "text/plain": [
       "   TRANSACTIONID  FLIGHTDATE AIRLINECODE                     AIRLINENAME  \\\n",
       "0       54548800    20020101          WN      Southwest Airlines Co.: WN   \n",
       "1       55872300    20020101          CO  Continental Air Lines Inc.: CO   \n",
       "2       54388800    20020101          WN      Southwest Airlines Co.: WN   \n",
       "3       54486500    20020101          WN      Southwest Airlines Co.: WN   \n",
       "4       55878700    20020103          CO  Continental Air Lines Inc.: CO   \n",
       "\n",
       "  TAILNUM  FLIGHTNUM ORIGINAIRPORTCODE  \\\n",
       "0  N103@@       1425               ABQ   \n",
       "1  N83872        150               ABQ   \n",
       "2  N334@@        249               ABQ   \n",
       "3  N699@@        902               ABQ   \n",
       "4  N58606        234               ABQ   \n",
       "\n",
       "                                    ORIGAIRPORTNAME ORIGINCITYNAME  \\\n",
       "0  AlbuquerqueNM: Albuquerque International Sunport    Albuquerque   \n",
       "1  AlbuquerqueNM: Albuquerque International Sunport    Albuquerque   \n",
       "2  AlbuquerqueNM: Albuquerque International Sunport    Albuquerque   \n",
       "3  AlbuquerqueNM: Albuquerque International Sunport    Albuquerque   \n",
       "4  AlbuquerqueNM: Albuquerque International Sunport    Albuquerque   \n",
       "\n",
       "  ORIGINSTATE  ... WHEELSON TAXIIN CRSARRTIME ARRTIME ARRDELAY CRSELAPSEDTIME  \\\n",
       "0          NM  ...   1648.0    4.0       1655  1652.0     -3.0           90.0   \n",
       "1          NM  ...   1419.0   16.0       1426  1435.0      9.0          116.0   \n",
       "2          NM  ...   1618.0    2.0       1500  1620.0     80.0          105.0   \n",
       "3          NM  ...   1947.0    1.0       1950  1948.0     -2.0           85.0   \n",
       "4          NM  ...   1742.0    5.0       1750  1747.0     -3.0          115.0   \n",
       "\n",
       "   ACTUALELAPSEDTIME  CANCELLED  DIVERTED   DISTANCE  \n",
       "0               87.0          F     False  580 miles  \n",
       "1              119.0      False         F  744 miles  \n",
       "2              102.0          F     False  718 miles  \n",
       "3               83.0          0         0  487 miles  \n",
       "4              114.0          F     False  744 miles  \n",
       "\n",
       "[5 rows x 31 columns]"
      ]
     },
     "execution_count": 31,
     "metadata": {},
     "output_type": "execute_result"
    }
   ],
   "source": [
    "# Define la ruta del archivo\n",
    "ruta_archivo = \"datasets/flights.csv\"\n",
    "\n",
    "# Lee el archivo CSV en un DataFrame de pandas, por velocidad se hace con una muestra de 400.000 filas\n",
    "#df = pd.read_csv(ruta_archivo, delimiter=\"|\", nrows = 400000)\n",
    "df = pd.read_csv(ruta_archivo, delimiter=\"|\")\n",
    "\n",
    "# Muestra las primeras filas del DataFrame\n",
    "df.head()\n"
   ]
  },
  {
   "cell_type": "code",
   "execution_count": 32,
   "metadata": {},
   "outputs": [
    {
     "data": {
      "text/plain": [
       "(1191805, 31)"
      ]
     },
     "execution_count": 32,
     "metadata": {},
     "output_type": "execute_result"
    }
   ],
   "source": [
    "df.shape\n"
   ]
  },
  {
   "attachments": {},
   "cell_type": "markdown",
   "metadata": {},
   "source": [
    " Se comprueba que el dataset tiene más de un millon de filas como se pide en la prueba y que carga todas las filas del csv."
   ]
  },
  {
   "attachments": {},
   "cell_type": "markdown",
   "metadata": {},
   "source": [
    " # EDA"
   ]
  },
  {
   "cell_type": "code",
   "execution_count": 33,
   "metadata": {},
   "outputs": [
    {
     "name": "stdout",
     "output_type": "stream",
     "text": [
      "<class 'pandas.core.frame.DataFrame'>\n",
      "RangeIndex: 1191805 entries, 0 to 1191804\n",
      "Data columns (total 31 columns):\n",
      " #   Column             Non-Null Count    Dtype  \n",
      "---  ------             --------------    -----  \n",
      " 0   TRANSACTIONID      1191805 non-null  int64  \n",
      " 1   FLIGHTDATE         1191805 non-null  int64  \n",
      " 2   AIRLINECODE        1191805 non-null  object \n",
      " 3   AIRLINENAME        1191805 non-null  object \n",
      " 4   TAILNUM            1034988 non-null  object \n",
      " 5   FLIGHTNUM          1191805 non-null  int64  \n",
      " 6   ORIGINAIRPORTCODE  1191805 non-null  object \n",
      " 7   ORIGAIRPORTNAME    1191805 non-null  object \n",
      " 8   ORIGINCITYNAME     1191805 non-null  object \n",
      " 9   ORIGINSTATE        1180963 non-null  object \n",
      " 10  ORIGINSTATENAME    1180963 non-null  object \n",
      " 11  DESTAIRPORTCODE    1191805 non-null  object \n",
      " 12  DESTAIRPORTNAME    1191805 non-null  object \n",
      " 13  DESTCITYNAME       1191805 non-null  object \n",
      " 14  DESTSTATE          1180967 non-null  object \n",
      " 15  DESTSTATENAME      1180967 non-null  object \n",
      " 16  CRSDEPTIME         1191805 non-null  int64  \n",
      " 17  DEPTIME            1163470 non-null  float64\n",
      " 18  DEPDELAY           1163470 non-null  float64\n",
      " 19  TAXIOUT            1011833 non-null  float64\n",
      " 20  WHEELSOFF          1011791 non-null  float64\n",
      " 21  WHEELSON           1010225 non-null  float64\n",
      " 22  TAXIIN             1010320 non-null  float64\n",
      " 23  CRSARRTIME         1191805 non-null  int64  \n",
      " 24  ARRTIME            1161439 non-null  float64\n",
      " 25  ARRDELAY           1160545 non-null  float64\n",
      " 26  CRSELAPSEDTIME     1191383 non-null  float64\n",
      " 27  ACTUALELAPSEDTIME  1160545 non-null  float64\n",
      " 28  CANCELLED          1191805 non-null  object \n",
      " 29  DIVERTED           1191805 non-null  object \n",
      " 30  DISTANCE           1191805 non-null  object \n",
      "dtypes: float64(10), int64(5), object(16)\n",
      "memory usage: 281.9+ MB\n"
     ]
    }
   ],
   "source": [
    "# Se revisa el tipo de cada columna para identificar si están correctas o se debe hacer algun ajuste\n",
    "df.info()\n"
   ]
  },
  {
   "attachments": {},
   "cell_type": "markdown",
   "metadata": {},
   "source": [
    " Se identifica que la columna FlightDate deberia ser una fecha, la distancia debería ser un número, Cancelled y Diverted deben tener valor booleano."
   ]
  },
  {
   "cell_type": "code",
   "execution_count": 34,
   "metadata": {},
   "outputs": [
    {
     "name": "stderr",
     "output_type": "stream",
     "text": [
      "C:\\Users\\alejo\\AppData\\Local\\Packages\\PythonSoftwareFoundation.Python.3.10_qbz5n2kfra8p0\\LocalCache\\local-packages\\Python310\\site-packages\\pandas\\core\\arrays\\timedeltas.py:908: RuntimeWarning: invalid value encountered in cast\n",
      "  base = data.astype(np.int64)\n",
      "C:\\Users\\alejo\\AppData\\Local\\Packages\\PythonSoftwareFoundation.Python.3.10_qbz5n2kfra8p0\\LocalCache\\local-packages\\Python310\\site-packages\\pandas\\core\\arrays\\timedeltas.py:912: RuntimeWarning: invalid value encountered in cast\n",
      "  data = (base * m + (frac * m).astype(np.int64)).view(\"timedelta64[ns]\")\n"
     ]
    }
   ],
   "source": [
    "try:\n",
    "    # Se convierte la fecha\n",
    "    df[\"FLIGHTDATE\"] = pd.to_datetime(df[\"FLIGHTDATE\"], format=\"%Y%m%d\")\n",
    "\n",
    "    # Se ajusta la columna Distance\n",
    "    df[\"DISTANCE\"] = df[\"DISTANCE\"].str.replace(\" miles\", \"\")\n",
    "    df[\"DISTANCE\"] = pd.to_numeric(df[\"DISTANCE\"], errors=\"raise\")\n",
    "\n",
    "    df[\"DEPDELAY\"] = pd.to_timedelta(df[\"DEPDELAY\"], unit=\"min\", errors=\"ignore\")\n",
    "    df[\"TAXIOUT\"] = pd.to_timedelta(df[\"TAXIOUT\"], unit=\"min\", errors=\"ignore\")\n",
    "    df[\"TAXIIN\"] = pd.to_timedelta(df[\"TAXIIN\"], unit=\"min\", errors=\"ignore\")\n",
    "    df[\"ARRDELAY\"] = pd.to_timedelta(df[\"ARRDELAY\"], unit=\"min\", errors=\"ignore\")\n",
    "    df[\"CRSELAPSEDTIME\"] = pd.to_timedelta(\n",
    "        df[\"CRSELAPSEDTIME\"], unit=\"min\", errors=\"ignore\"\n",
    "    )\n",
    "    df[\"ACTUALELAPSEDTIME\"] = pd.to_timedelta(\n",
    "        df[\"ACTUALELAPSEDTIME\"], unit=\"min\", errors=\"ignore\"\n",
    "    )\n",
    "\n",
    "    # Se ajustan las columnas booleanas\n",
    "    df[\"CANCELLED\"] = df[\"CANCELLED\"].map(\n",
    "        {\"0\": False, \"1\": True, \"True\": True, \"False\": False, \"T\": True, \"F\": False}\n",
    "    )\n",
    "    df[\"DIVERTED\"] = df[\"DIVERTED\"].map(\n",
    "        {\"0\": False, \"1\": True, \"True\": True, \"False\": False, \"T\": True, \"F\": False}\n",
    "    )\n",
    "\n",
    "except Exception as e:\n",
    "    logging.exception(f\"Se ha presentado una excepcion: {e}\")\n"
   ]
  },
  {
   "attachments": {},
   "cell_type": "markdown",
   "metadata": {},
   "source": [
    " Aunque no es del todo necesario capturas los errores en este punto pues es muy manual este proceso se deja para probar el sistema logging, si se corre dos veces este bloque se dispara una excepcion por aplicarle .str. a la columna distance que ya es numerica."
   ]
  },
  {
   "attachments": {},
   "cell_type": "markdown",
   "metadata": {},
   "source": [
    " Para seguir con las columnas que tiene formato de hora vemos que dos de ellas tienen formato int64 y el resto float64, quiere decir que las int no tienen valores nulos mientras que las otras si, se verifica esto para proceder a su transformació."
   ]
  },
  {
   "cell_type": "code",
   "execution_count": 35,
   "metadata": {},
   "outputs": [],
   "source": [
    "# Convertir columnas a formato fecha hora\n",
    "columnas_hora = [\n",
    "    \"CRSDEPTIME\",\n",
    "    \"DEPTIME\",\n",
    "    \"WHEELSOFF\",\n",
    "    \"WHEELSON\",\n",
    "    \"CRSARRTIME\",\n",
    "    \"ARRTIME\",\n",
    "]\n",
    "for columna in columnas_hora:\n",
    "    if df[columna].isnull().sum() == 0:\n",
    "        df[columna] = df[columna].astype(str).str.zfill(4)\n",
    "        df[columna] = pd.to_datetime(\n",
    "            df[columna], errors=\"coerce\", format=\"%H%M\"\n",
    "        ).dt.time\n",
    "        df[columna] = (\n",
    "            df[\"FLIGHTDATE\"].dt.strftime(\"%Y-%m-%d\") + \" \" + df[columna].apply(str)\n",
    "        )\n",
    "        df[columna] = pd.to_datetime(df[columna], errors=\"coerce\")\n"
   ]
  },
  {
   "cell_type": "code",
   "execution_count": 36,
   "metadata": {},
   "outputs": [
    {
     "name": "stdout",
     "output_type": "stream",
     "text": [
      "<class 'pandas.core.frame.DataFrame'>\n",
      "RangeIndex: 1191805 entries, 0 to 1191804\n",
      "Data columns (total 31 columns):\n",
      " #   Column             Non-Null Count    Dtype          \n",
      "---  ------             --------------    -----          \n",
      " 0   TRANSACTIONID      1191805 non-null  int64          \n",
      " 1   FLIGHTDATE         1191805 non-null  datetime64[ns] \n",
      " 2   AIRLINECODE        1191805 non-null  object         \n",
      " 3   AIRLINENAME        1191805 non-null  object         \n",
      " 4   TAILNUM            1034988 non-null  object         \n",
      " 5   FLIGHTNUM          1191805 non-null  int64          \n",
      " 6   ORIGINAIRPORTCODE  1191805 non-null  object         \n",
      " 7   ORIGAIRPORTNAME    1191805 non-null  object         \n",
      " 8   ORIGINCITYNAME     1191805 non-null  object         \n",
      " 9   ORIGINSTATE        1180963 non-null  object         \n",
      " 10  ORIGINSTATENAME    1180963 non-null  object         \n",
      " 11  DESTAIRPORTCODE    1191805 non-null  object         \n",
      " 12  DESTAIRPORTNAME    1191805 non-null  object         \n",
      " 13  DESTCITYNAME       1191805 non-null  object         \n",
      " 14  DESTSTATE          1180967 non-null  object         \n",
      " 15  DESTSTATENAME      1180967 non-null  object         \n",
      " 16  CRSDEPTIME         1191803 non-null  datetime64[ns] \n",
      " 17  DEPTIME            1163470 non-null  float64        \n",
      " 18  DEPDELAY           1163470 non-null  timedelta64[ns]\n",
      " 19  TAXIOUT            1011833 non-null  timedelta64[ns]\n",
      " 20  WHEELSOFF          1011791 non-null  float64        \n",
      " 21  WHEELSON           1010225 non-null  float64        \n",
      " 22  TAXIIN             1010320 non-null  timedelta64[ns]\n",
      " 23  CRSARRTIME         1191789 non-null  datetime64[ns] \n",
      " 24  ARRTIME            1161439 non-null  float64        \n",
      " 25  ARRDELAY           1160545 non-null  timedelta64[ns]\n",
      " 26  CRSELAPSEDTIME     1191383 non-null  timedelta64[ns]\n",
      " 27  ACTUALELAPSEDTIME  1160545 non-null  timedelta64[ns]\n",
      " 28  CANCELLED          1191805 non-null  bool           \n",
      " 29  DIVERTED           1191805 non-null  bool           \n",
      " 30  DISTANCE           1191805 non-null  int64          \n",
      "dtypes: bool(2), datetime64[ns](3), float64(4), int64(3), object(13), timedelta64[ns](6)\n",
      "memory usage: 266.0+ MB\n"
     ]
    }
   ],
   "source": [
    "# Se verifican los cambios\n",
    "df.info()\n"
   ]
  },
  {
   "attachments": {},
   "cell_type": "markdown",
   "metadata": {},
   "source": [
    " ## Datos faltantes"
   ]
  },
  {
   "cell_type": "code",
   "execution_count": 37,
   "metadata": {},
   "outputs": [
    {
     "name": "stdout",
     "output_type": "stream",
     "text": [
      "Porcentaje de valores nulos por columna:\n",
      "TRANSACTIONID         0.000000\n",
      "FLIGHTDATE            0.000000\n",
      "AIRLINECODE           0.000000\n",
      "AIRLINENAME           0.000000\n",
      "TAILNUM              13.157941\n",
      "FLIGHTNUM             0.000000\n",
      "ORIGINAIRPORTCODE     0.000000\n",
      "ORIGAIRPORTNAME       0.000000\n",
      "ORIGINCITYNAME        0.000000\n",
      "ORIGINSTATE           0.909713\n",
      "ORIGINSTATENAME       0.909713\n",
      "DESTAIRPORTCODE       0.000000\n",
      "DESTAIRPORTNAME       0.000000\n",
      "DESTCITYNAME          0.000000\n",
      "DESTSTATE             0.909377\n",
      "DESTSTATENAME         0.909377\n",
      "CRSDEPTIME            0.000168\n",
      "DEPTIME               2.377486\n",
      "DEPDELAY              2.377486\n",
      "TAXIOUT              15.100792\n",
      "WHEELSOFF            15.104317\n",
      "WHEELSON             15.235714\n",
      "TAXIIN               15.227743\n",
      "CRSARRTIME            0.001343\n",
      "ARRTIME               2.547900\n",
      "ARRDELAY              2.622912\n",
      "CRSELAPSEDTIME        0.035408\n",
      "ACTUALELAPSEDTIME     2.622912\n",
      "CANCELLED             0.000000\n",
      "DIVERTED              0.000000\n",
      "DISTANCE              0.000000\n",
      "dtype: float64\n"
     ]
    }
   ],
   "source": [
    "# Análisis de valores nulos\n",
    "null_values = df.isnull().sum() / len(df) * 100\n",
    "print(\"Porcentaje de valores nulos por columna:\")\n",
    "print(null_values)\n"
   ]
  },
  {
   "attachments": {},
   "cell_type": "markdown",
   "metadata": {},
   "source": [
    " El porcentaje de datos faltantes en algunos campos va desde 0.9% hasta 15% en otros, en este punto del proceso no se considera eliminar estos registros, se procede a explorar los datos con el fin de decidir si descartar las columnas con alto porcentaje o si utilizar alguna técnica para completar la información faltante."
   ]
  },
  {
   "cell_type": "code",
   "execution_count": 38,
   "metadata": {},
   "outputs": [
    {
     "name": "stderr",
     "output_type": "stream",
     "text": [
      "C:\\Users\\alejo\\AppData\\Local\\Temp\\ipykernel_16952\\1038447082.py:2: FutureWarning: The default value of numeric_only in DataFrame.corr is deprecated. In a future version, it will default to False. Select only valid columns or specify the value of numeric_only to silence this warning.\n",
      "  correlation_matrix = df.corr()\n"
     ]
    },
    {
     "data": {
      "image/png": "[encoded data removed]",
      "text/plain": [
       "<Figure size 1000x800 with 2 Axes>"
      ]
     },
     "metadata": {},
     "output_type": "display_data"
    }
   ],
   "source": [
    "# Matriz de correlación\n",
    "correlation_matrix = df.corr()\n",
    "plt.figure(figsize=(10, 8))\n",
    "sns.heatmap(correlation_matrix, annot=True, cmap=\"RdYlGn\")\n",
    "plt.title(\"Matriz de correlación\")\n",
    "plt.show()\n"
   ]
  },
  {
   "attachments": {},
   "cell_type": "markdown",
   "metadata": {},
   "source": [
    " Aunque la matriz de correlación se utiliza más para modelos numéricos y preparar la data para modelos predictivos en este punto nos puede dar una pista si al descartar una columna podríamos afectar otra."
   ]
  },
  {
   "attachments": {},
   "cell_type": "markdown",
   "metadata": {},
   "source": [
    " Empezando por la columna que más datos le faltan (TAILNUM) se analiza si es necesario rellenar o no estos valores, esta columna corresponde a la identificación única de cada avión y sin más datos que nos permitan identificar a cada aeronave es imposible conseguir este valor; también se puede apreciar en la matriz que este valor no tiene gran influencia sobre las otras columnas, por lo tanto se dejaran los valores nulos y no se eliminaran estos registros."
   ]
  },
  {
   "attachments": {},
   "cell_type": "markdown",
   "metadata": {},
   "source": [
    " Ahora se procede a revisar ORIGINSTATE y ORIGINSTATENAME, como tenemos el código del aeropuerto podemos buscarlo en los aeropuertos de destino y así encontrar la información faltante"
   ]
  },
  {
   "cell_type": "code",
   "execution_count": 39,
   "metadata": {},
   "outputs": [],
   "source": [
    "# Crear un diccionario de mapeo entre DESTAIRPORTCODE y DESTSTATE\n",
    "codigos = df.set_index(\"DESTAIRPORTCODE\")[\"DESTSTATE\"].to_dict()\n",
    "\n",
    "# Rellenar los valores faltantes en ORIGINSTATE usando el diccionario de mapeo\n",
    "df[\"ORIGINSTATE\"] = df[\"ORIGINSTATE\"].fillna(df[\"ORIGINAIRPORTCODE\"].map(codigos))\n"
   ]
  },
  {
   "attachments": {},
   "cell_type": "markdown",
   "metadata": {},
   "source": [
    " Como esta estrategia no redujo el número de datos faltantes se procede a conectarse a una API gratuita que retorna la información del aeropuerto basado en el código único"
   ]
  },
  {
   "cell_type": "code",
   "execution_count": 40,
   "metadata": {},
   "outputs": [],
   "source": [
    "def airport_info(airport_code):\n",
    "    url = \"https://airport-info.p.rapidapi.com/airport\"\n",
    "\n",
    "    querystring = {\"iata\": airport_code}\n",
    "\n",
    "    headers = {\n",
    "        \"X-RapidAPI-Key\": \"6f294ed6f0mshd9fbb45d9c15ffbp112336jsn9ed08e8c22a6\",\n",
    "        \"X-RapidAPI-Host\": \"airport-info.p.rapidapi.com\",\n",
    "    }\n",
    "    try:\n",
    "        response = requests.get(url, headers=headers, params=querystring)\n",
    "\n",
    "    except Exception as e:\n",
    "        logging.exception(f\"Se ha presentado una excepcion al consultar la API: {e}\")\n",
    "        return\n",
    "\n",
    "    print(response.json())\n",
    "\n",
    "    return response\n",
    "\n"
   ]
  },
  {
   "cell_type": "code",
   "execution_count": 41,
   "metadata": {},
   "outputs": [
    {
     "name": "stdout",
     "output_type": "stream",
     "text": [
      "{'id': 5548, 'iata': 'OKC', 'icao': 'KOKC', 'name': 'Will Rogers World Airport', 'location': 'Oklahoma City, Oklahoma, United States', 'street_number': '7100', 'street': 'Terminal Drive', 'city': 'Oklahoma City', 'county': '', 'state': 'Oklahoma', 'country_iso': 'US', 'country': 'United States', 'postal_code': '73159', 'phone': '+1 405-316-3200', 'latitude': 35.393055, 'longitude': -97.600555, 'uct': -300, 'website': 'http://www.flyokc.com/'}\n",
      "{'id': 7645, 'iata': 'TUL', 'icao': 'KTUL', 'name': 'Tulsa International Airport', 'location': 'Tulsa, Oklahoma, United States', 'street_number': '7777', 'street': 'East Apache Street', 'city': 'Tulsa', 'county': 'Tulsa County', 'state': 'Oklahoma', 'country_iso': 'US', 'country': 'United States', 'postal_code': '74115', 'phone': '+1 918-838-5000', 'latitude': 36.198776, 'longitude': -95.883865, 'uct': -300, 'website': 'http://www.tulsaairports.com/'}\n",
      "{'id': 3125, 'iata': 'ICT', 'icao': 'KICT', 'name': 'Wichita Dwight D. Eisenhower National Airport', 'location': 'Wichita, Kansas, United States', 'street_number': '2277', 'street': 'Eisenhower Airport Parkway', 'city': 'Wichita', 'county': 'Sedgwick County', 'state': 'Kansas', 'country_iso': 'US', 'country': 'United States', 'postal_code': '67209', 'phone': '+1 316-946-4700', 'latitude': 37.650852, 'longitude': -97.428696, 'uct': -300, 'website': 'http://www.flywichita.com/'}\n",
      "{'id': 4043, 'iata': 'LAW', 'icao': 'KLAW', 'name': 'Lawton–Fort Sill Regional Airport', 'location': 'Lawton, Oklahoma, United States', 'street_number': '3401', 'street': 'Southwest 11th Street', 'city': 'Lawton', 'county': 'Comanche County', 'state': 'Oklahoma', 'country_iso': 'US', 'country': 'United States', 'postal_code': '73501', 'phone': '+1 580-353-4869', 'latitude': 34.572662, 'longitude': -98.41592, 'uct': -300, 'website': 'http://www.flylawton.org/'}\n",
      "{'id': 4671, 'iata': 'MHK', 'icao': 'KMHK', 'name': 'Manhattan Regional Airport', 'location': 'Manhattan, Kansas, United States', 'street_number': '5500', 'street': 'Skyway Drive', 'city': 'Manhattan', 'county': 'Riley County', 'state': 'Kansas', 'country_iso': 'US', 'country': 'United States', 'postal_code': '66503', 'phone': '+1 785-587-4597', 'latitude': 39.137123, 'longitude': -96.66993, 'uct': -300, 'website': 'http://www.flymhk.com/'}\n",
      "{'id': 2357, 'iata': 'FOE', 'icao': 'KFOE', 'name': 'Topeka Regional Airport', 'location': 'Topeka, Kansas, United States', 'street_number': '6510', 'street': 'SE Forbes Ave', 'city': 'Topeka', 'county': 'Shawnee County', 'state': 'Kansas', 'country_iso': 'US', 'country': 'United States', 'postal_code': '66619', 'phone': '+1 785-862-2362', 'latitude': 38.948345, 'longitude': -95.66643, 'uct': -300, 'website': 'http://www.mtaa-topeka.org/topeka-regional-airport'}\n",
      "{'id': 2487, 'iata': 'GCK', 'icao': 'KGCK', 'name': 'Garden City Regional Airport', 'location': 'Garden City, Kansas, United States', 'street_number': '2225', 'street': 'South Air Service Road', 'city': 'Garden City', 'county': 'Finney County', 'state': 'Kansas', 'country_iso': 'US', 'country': 'United States', 'postal_code': '67846', 'phone': '+1 620-276-1190', 'latitude': 37.92689, 'longitude': -100.71987, 'uct': -300, 'website': 'http://www.fly2gck.com/'}\n",
      "{'id': 3087, 'iata': 'HYS', 'icao': 'KHYS', 'name': 'Hays Regional Airport', 'location': 'Hays, Kansas, United States', 'street_number': '13-3950', 'street': 'East 8th Street', 'city': 'Hays', 'county': 'Ellis County', 'state': 'Kansas', 'country_iso': 'US', 'country': 'United States', 'postal_code': '67601', 'phone': '+1 785-628-7370', 'latitude': 38.85391, 'longitude': -99.27379, 'uct': -300, 'website': 'http://www.flyhays.com/'}\n"
     ]
    }
   ],
   "source": [
    "# Filtrar el diccionario para obtener solo las claves con valor NaN\n",
    "codigos_faltantes = {key: value for key, value in codigos.items() if pd.isna(value)}\n",
    "\n",
    "codigos_completos = {}\n",
    "\n",
    "for key in codigos_faltantes:\n",
    "    codigos_completos[key] = (airport_info(key)).json()[\"state\"]\n"
   ]
  },
  {
   "attachments": {},
   "cell_type": "markdown",
   "metadata": {},
   "source": [
    " Como ya se tiene un diccionario con el nombre del estado para cada aeropuerto faltante se agregan los datos al dataframe"
   ]
  },
  {
   "cell_type": "code",
   "execution_count": 42,
   "metadata": {},
   "outputs": [],
   "source": [
    "df[\"ORIGINSTATENAME\"] = df[\"ORIGINSTATENAME\"].fillna(\n",
    "    df[\"ORIGINAIRPORTCODE\"].map(codigos_completos)\n",
    ")\n",
    "df[\"DESTSTATENAME\"] = df[\"DESTSTATENAME\"].fillna(\n",
    "    df[\"DESTAIRPORTCODE\"].map(codigos_completos)\n",
    ")\n"
   ]
  },
  {
   "attachments": {},
   "cell_type": "markdown",
   "metadata": {},
   "source": [
    " Ahora se completan las columnas ORIGINSTATE Y DESTSTATE, para esto se utiliza otro dataset pequeño con todos los estados y su abreviatura"
   ]
  },
  {
   "cell_type": "code",
   "execution_count": 43,
   "metadata": {},
   "outputs": [],
   "source": [
    "# Se carga el dataset\n",
    "df_estados = pd.read_csv(\"datasets/us_states.tsv\", sep=\"\\t\")\n",
    "\n",
    "# Se extraen los estados y su abreviatura\n",
    "abreviaturas = df_estados.set_index(\"name\")[\"state\"].to_dict()\n",
    "\n",
    "# Se elimina el dataset para liberar memoria\n",
    "del df_estados\n"
   ]
  },
  {
   "cell_type": "code",
   "execution_count": 44,
   "metadata": {},
   "outputs": [],
   "source": [
    "df[\"ORIGINSTATE\"] = df[\"ORIGINSTATE\"].fillna(df[\"ORIGINSTATENAME\"].map(abreviaturas))\n",
    "df[\"DESTSTATE\"] = df[\"DESTSTATE\"].fillna(df[\"DESTSTATENAME\"].map(abreviaturas))\n"
   ]
  },
  {
   "attachments": {},
   "cell_type": "markdown",
   "metadata": {},
   "source": [
    " ### Columnas de tiempo"
   ]
  },
  {
   "attachments": {},
   "cell_type": "markdown",
   "metadata": {},
   "source": [
    " Se comprueban si aún quedan valores nulos"
   ]
  },
  {
   "cell_type": "code",
   "execution_count": 45,
   "metadata": {},
   "outputs": [
    {
     "name": "stdout",
     "output_type": "stream",
     "text": [
      "Porcentaje de valores nulos por columna:\n",
      "TRANSACTIONID         0.000000\n",
      "FLIGHTDATE            0.000000\n",
      "AIRLINECODE           0.000000\n",
      "AIRLINENAME           0.000000\n",
      "TAILNUM              13.157941\n",
      "FLIGHTNUM             0.000000\n",
      "ORIGINAIRPORTCODE     0.000000\n",
      "ORIGAIRPORTNAME       0.000000\n",
      "ORIGINCITYNAME        0.000000\n",
      "ORIGINSTATE           0.000000\n",
      "ORIGINSTATENAME       0.000000\n",
      "DESTAIRPORTCODE       0.000000\n",
      "DESTAIRPORTNAME       0.000000\n",
      "DESTCITYNAME          0.000000\n",
      "DESTSTATE             0.000000\n",
      "DESTSTATENAME         0.000000\n",
      "CRSDEPTIME            0.000168\n",
      "DEPTIME               2.377486\n",
      "DEPDELAY              2.377486\n",
      "TAXIOUT              15.100792\n",
      "WHEELSOFF            15.104317\n",
      "WHEELSON             15.235714\n",
      "TAXIIN               15.227743\n",
      "CRSARRTIME            0.001343\n",
      "ARRTIME               2.547900\n",
      "ARRDELAY              2.622912\n",
      "CRSELAPSEDTIME        0.035408\n",
      "ACTUALELAPSEDTIME     2.622912\n",
      "CANCELLED             0.000000\n",
      "DIVERTED              0.000000\n",
      "DISTANCE              0.000000\n",
      "dtype: float64\n"
     ]
    }
   ],
   "source": [
    "# Análisis de valores nulos\n",
    "null_values = df.isnull().sum() / len(df) * 100\n",
    "print(\"Porcentaje de valores nulos por columna:\")\n",
    "print(null_values)\n"
   ]
  },
  {
   "attachments": {},
   "cell_type": "markdown",
   "metadata": {},
   "source": [
    " Para los valores nulos que aún quedan se van a insertan los valores aproximados, por ejemplo hora de despegue programada y si la real es nula se pondrá la programada para poder rellenar los espacios, de todas formas como se vio al inicio estos valores solo corresponden al 2% y no presentan una cantidad estadisticamente considerable"
   ]
  },
  {
   "cell_type": "code",
   "execution_count": 46,
   "metadata": {},
   "outputs": [
    {
     "name": "stdout",
     "output_type": "stream",
     "text": [
      "<class 'pandas.core.frame.DataFrame'>\n",
      "RangeIndex: 1191805 entries, 0 to 1191804\n",
      "Data columns (total 31 columns):\n",
      " #   Column             Non-Null Count    Dtype          \n",
      "---  ------             --------------    -----          \n",
      " 0   TRANSACTIONID      1191805 non-null  int64          \n",
      " 1   FLIGHTDATE         1191805 non-null  datetime64[ns] \n",
      " 2   AIRLINECODE        1191805 non-null  object         \n",
      " 3   AIRLINENAME        1191805 non-null  object         \n",
      " 4   TAILNUM            1034988 non-null  object         \n",
      " 5   FLIGHTNUM          1191805 non-null  int64          \n",
      " 6   ORIGINAIRPORTCODE  1191805 non-null  object         \n",
      " 7   ORIGAIRPORTNAME    1191805 non-null  object         \n",
      " 8   ORIGINCITYNAME     1191805 non-null  object         \n",
      " 9   ORIGINSTATE        1191805 non-null  object         \n",
      " 10  ORIGINSTATENAME    1191805 non-null  object         \n",
      " 11  DESTAIRPORTCODE    1191805 non-null  object         \n",
      " 12  DESTAIRPORTNAME    1191805 non-null  object         \n",
      " 13  DESTCITYNAME       1191805 non-null  object         \n",
      " 14  DESTSTATE          1191805 non-null  object         \n",
      " 15  DESTSTATENAME      1191805 non-null  object         \n",
      " 16  CRSDEPTIME         1191803 non-null  datetime64[ns] \n",
      " 17  DEPTIME            1163470 non-null  float64        \n",
      " 18  DEPDELAY           1163470 non-null  timedelta64[ns]\n",
      " 19  TAXIOUT            1011833 non-null  timedelta64[ns]\n",
      " 20  WHEELSOFF          1011791 non-null  float64        \n",
      " 21  WHEELSON           1010225 non-null  float64        \n",
      " 22  TAXIIN             1010320 non-null  timedelta64[ns]\n",
      " 23  CRSARRTIME         1191789 non-null  datetime64[ns] \n",
      " 24  ARRTIME            1161439 non-null  float64        \n",
      " 25  ARRDELAY           1160545 non-null  timedelta64[ns]\n",
      " 26  CRSELAPSEDTIME     1191383 non-null  timedelta64[ns]\n",
      " 27  ACTUALELAPSEDTIME  1160545 non-null  timedelta64[ns]\n",
      " 28  CANCELLED          1191805 non-null  bool           \n",
      " 29  DIVERTED           1191805 non-null  bool           \n",
      " 30  DISTANCE           1191805 non-null  int64          \n",
      "dtypes: bool(2), datetime64[ns](3), float64(4), int64(3), object(13), timedelta64[ns](6)\n",
      "memory usage: 266.0+ MB\n"
     ]
    }
   ],
   "source": [
    "df.info()\n"
   ]
  },
  {
   "cell_type": "code",
   "execution_count": 47,
   "metadata": {},
   "outputs": [],
   "source": [
    "# Convertir columnas a formato fecha hora\n",
    "columnas_hora = [\"DEPTIME\"]\n",
    "for columna in columnas_hora:\n",
    "    df[columna] = df[columna].astype(\"Int64\").astype(str)\n",
    "    df[columna] = df[columna].fillna(df[\"CRSDEPTIME\"])\n",
    "    df[columna] = df[columna].astype(str).str.zfill(4)\n",
    "    df[columna] = pd.to_datetime(df[columna], errors=\"coerce\", format=\"%H%M\").dt.time\n",
    "    df[columna] = (\n",
    "        df[\"FLIGHTDATE\"].dt.strftime(\"%Y-%m-%d\") + \" \" + df[columna].apply(str)\n",
    "    )\n",
    "    df[columna] = pd.to_datetime(df[columna], errors=\"coerce\")\n",
    "    df.loc[(df[columna].isnull()) & (df[\"DEPDELAY\"].isnull()), columna] = df[\n",
    "        \"CRSDEPTIME\"\n",
    "    ]\n",
    "    df.loc[(df[columna].isnull()) & (df[\"DEPDELAY\"].notnull()), columna] = (\n",
    "        df[\"CRSDEPTIME\"] + df[\"DEPDELAY\"]\n",
    "    )\n",
    "\n",
    "columnas_hora = [\"ARRTIME\"]\n",
    "for columna in columnas_hora:\n",
    "    df[columna] = df[columna].astype(\"Int64\").astype(str)\n",
    "    df[columna] = df[columna].astype(str).str.zfill(4)\n",
    "    df[columna] = pd.to_datetime(df[columna], errors=\"coerce\", format=\"%H%M\").dt.time\n",
    "    df[columna] = (\n",
    "        df[\"FLIGHTDATE\"].dt.strftime(\"%Y-%m-%d\") + \" \" + df[columna].apply(str)\n",
    "    )\n",
    "    df[columna] = pd.to_datetime(df[columna], errors=\"coerce\")\n",
    "    df.loc[(df[columna].isnull()) & (df[\"ARRDELAY\"].isnull()), columna] = df[\n",
    "        \"CRSARRTIME\"\n",
    "    ]\n",
    "    df.loc[(df[columna].isnull()) & (df[\"ARRDELAY\"].notnull()), columna] = (\n",
    "        df[\"CRSARRTIME\"] + df[\"ARRDELAY\"]\n",
    "    )\n",
    "\n",
    "\n",
    "columnas_hora = [\"WHEELSOFF\"]\n",
    "for columna in columnas_hora:\n",
    "    df[columna] = df[columna].astype(\"Int64\").astype(str)\n",
    "    df[columna] = df[columna].astype(str).str.zfill(4)\n",
    "    df[columna] = pd.to_datetime(df[columna], errors=\"coerce\", format=\"%H%M\").dt.time\n",
    "    df[columna] = (\n",
    "        df[\"FLIGHTDATE\"].dt.strftime(\"%Y-%m-%d\") + \" \" + df[columna].apply(str)\n",
    "    )\n",
    "    df[columna] = pd.to_datetime(df[columna], errors=\"coerce\")\n",
    "    df.loc[df[columna].isnull(), columna] = df[\"DEPTIME\"] + df[\"TAXIOUT\"]\n",
    "\n",
    "columnas_hora = [\"WHEELSON\"]\n",
    "for columna in columnas_hora:\n",
    "    df[columna] = df[columna].astype(\"Int64\").astype(str)\n",
    "    df[columna] = df[columna].astype(str).str.zfill(4)\n",
    "    df[columna] = pd.to_datetime(df[columna], errors=\"coerce\", format=\"%H%M\").dt.time\n",
    "    df[columna] = (\n",
    "        df[\"FLIGHTDATE\"].dt.strftime(\"%Y-%m-%d\") + \" \" + df[columna].apply(str)\n",
    "    )\n",
    "    df[columna] = pd.to_datetime(df[columna], errors=\"coerce\")\n",
    "    df.loc[df[columna].isnull(), columna] = df[\"ARRTIME\"] - df[\"TAXIIN\"]\n",
    "\n",
    "df[\"DEPDELAY\"] = df[\"DEPDELAY\"].dt.total_seconds() / 60\n",
    "df[\"TAXIOUT\"] = df[\"TAXIOUT\"].dt.total_seconds() / 60\n",
    "df[\"TAXIIN\"] = df[\"TAXIIN\"].dt.total_seconds() / 60\n",
    "df[\"ARRDELAY\"] = df[\"ARRDELAY\"].dt.total_seconds() / 60\n",
    "df[\"CRSELAPSEDTIME\"] = df[\"CRSELAPSEDTIME\"].dt.total_seconds() / 60\n",
    "df[\"ACTUALELAPSEDTIME\"] = df[\"ACTUALELAPSEDTIME\"].dt.total_seconds() / 60\n"
   ]
  },
  {
   "attachments": {},
   "cell_type": "markdown",
   "metadata": {},
   "source": [
    " Se corrigen las fechas de llegada para aquellos aviones que salen un día y llegan al siguiente."
   ]
  },
  {
   "cell_type": "code",
   "execution_count": 48,
   "metadata": {},
   "outputs": [],
   "source": [
    "def arreglar_fecha(row):\n",
    "    if row[\"WHEELSOFF\"] < row[\"CRSDEPTIME\"]:\n",
    "        row[\"WHEELSOFF\"] = row[\"WHEELSOFF\"] + pd.to_timedelta(\n",
    "            1, unit=\"day\", errors=\"ignore\"\n",
    "        )\n",
    "        row[\"WHEELSON\"] = row[\"WHEELSON\"] + pd.to_timedelta(\n",
    "            1, unit=\"day\", errors=\"ignore\"\n",
    "        )\n",
    "        row[\"CRSARRTIME\"] = row[\"CRSARRTIME\"] + pd.to_timedelta(\n",
    "            1, unit=\"day\", errors=\"ignore\"\n",
    "        )\n",
    "        row[\"ARRTIME\"] = row[\"ARRTIME\"] + pd.to_timedelta(\n",
    "            1, unit=\"day\", errors=\"ignore\"\n",
    "        )\n",
    "        return row\n",
    "    elif row[\"WHEELSON\"] < row[\"WHEELSOFF\"]:\n",
    "        row[\"WHEELSON\"] = row[\"WHEELSON\"] + pd.to_timedelta(\n",
    "            1, unit=\"day\", errors=\"ignore\"\n",
    "        )\n",
    "        row[\"CRSARRTIME\"] = row[\"CRSARRTIME\"] + pd.to_timedelta(\n",
    "            1, unit=\"day\", errors=\"ignore\"\n",
    "        )\n",
    "        row[\"ARRTIME\"] = row[\"ARRTIME\"] + pd.to_timedelta(\n",
    "            1, unit=\"day\", errors=\"ignore\"\n",
    "        )\n",
    "        return row\n",
    "    elif row[\"ARRTIME\"] < row[\"WHEELSON\"]:\n",
    "        row[\"CRSARRTIME\"] = row[\"CRSARRTIME\"] + pd.to_timedelta(\n",
    "            1, unit=\"day\", errors=\"ignore\"\n",
    "        )\n",
    "        row[\"ARRTIME\"] = row[\"ARRTIME\"] + pd.to_timedelta(\n",
    "            1, unit=\"day\", errors=\"ignore\"\n",
    "        )\n",
    "        return row\n",
    "    elif row[\"ARRTIME\"] < row[\"WHEELSOFF\"]:\n",
    "        row[\"ARRTIME\"] = row[\"ARRTIME\"] + pd.to_timedelta(\n",
    "            1, unit=\"day\", errors=\"ignore\"\n",
    "        )\n",
    "        return row\n",
    "    elif row[\"CRSARRTIME\"] < row[\"WHEELSOFF\"]:\n",
    "        row[\"CRSARRTIME\"] = row[\"CRSARRTIME\"] + pd.to_timedelta(\n",
    "            1, unit=\"day\", errors=\"ignore\"\n",
    "        )\n",
    "        return row\n",
    "    elif row[\"ARRTIME\"] < row[\"DEPTIME\"]:\n",
    "        row[\"ARRTIME\"] = row[\"ARRTIME\"] + pd.to_timedelta(\n",
    "            1, unit=\"day\", errors=\"ignore\"\n",
    "        )\n",
    "\n",
    "    return row\n",
    "\n"
   ]
  },
  {
   "cell_type": "code",
   "execution_count": 49,
   "metadata": {},
   "outputs": [],
   "source": [
    "df = df.apply(lambda row: arreglar_fecha(row), axis=1)\n"
   ]
  },
  {
   "attachments": {},
   "cell_type": "markdown",
   "metadata": {},
   "source": [
    " Ya con las fechas ajustadas se procede a llenar los vacios en las columnas ACTUALELAPSEDTIME y CRSELAPSEDTIME"
   ]
  },
  {
   "cell_type": "code",
   "execution_count": 50,
   "metadata": {},
   "outputs": [],
   "source": [
    "df.loc[df[\"CRSELAPSEDTIME\"].isnull(), \"CRSELAPSEDTIME\"] = (\n",
    "    pd.to_timedelta(\n",
    "        df[\"CRSARRTIME\"] - df[\"CRSDEPTIME\"], unit=\"min\", errors=\"ignore\"\n",
    "    ).dt.total_seconds()\n",
    "    / 60\n",
    ")\n",
    "df.loc[df[\"ACTUALELAPSEDTIME\"].isnull(), \"ACTUALELAPSEDTIME\"] = (\n",
    "    pd.to_timedelta(\n",
    "        df[\"ARRTIME\"] - df[\"DEPTIME\"], unit=\"min\", errors=\"ignore\"\n",
    "    ).dt.total_seconds()\n",
    "    / 60\n",
    ")\n"
   ]
  },
  {
   "cell_type": "code",
   "execution_count": 51,
   "metadata": {},
   "outputs": [
    {
     "name": "stdout",
     "output_type": "stream",
     "text": [
      "<class 'pandas.core.frame.DataFrame'>\n",
      "RangeIndex: 1191805 entries, 0 to 1191804\n",
      "Data columns (total 31 columns):\n",
      " #   Column             Non-Null Count    Dtype         \n",
      "---  ------             --------------    -----         \n",
      " 0   TRANSACTIONID      1191805 non-null  int64         \n",
      " 1   FLIGHTDATE         1191805 non-null  datetime64[ns]\n",
      " 2   AIRLINECODE        1191805 non-null  object        \n",
      " 3   AIRLINENAME        1191805 non-null  object        \n",
      " 4   TAILNUM            1034988 non-null  object        \n",
      " 5   FLIGHTNUM          1191805 non-null  int64         \n",
      " 6   ORIGINAIRPORTCODE  1191805 non-null  object        \n",
      " 7   ORIGAIRPORTNAME    1191805 non-null  object        \n",
      " 8   ORIGINCITYNAME     1191805 non-null  object        \n",
      " 9   ORIGINSTATE        1191805 non-null  object        \n",
      " 10  ORIGINSTATENAME    1191805 non-null  object        \n",
      " 11  DESTAIRPORTCODE    1191805 non-null  object        \n",
      " 12  DESTAIRPORTNAME    1191805 non-null  object        \n",
      " 13  DESTCITYNAME       1191805 non-null  object        \n",
      " 14  DESTSTATE          1191805 non-null  object        \n",
      " 15  DESTSTATENAME      1191805 non-null  object        \n",
      " 16  CRSDEPTIME         1191803 non-null  datetime64[ns]\n",
      " 17  DEPTIME            1191803 non-null  datetime64[ns]\n",
      " 18  DEPDELAY           1163470 non-null  float64       \n",
      " 19  TAXIOUT            1011833 non-null  float64       \n",
      " 20  WHEELSOFF          1011833 non-null  datetime64[ns]\n",
      " 21  WHEELSON           1010320 non-null  datetime64[ns]\n",
      " 22  TAXIIN             1010320 non-null  float64       \n",
      " 23  CRSARRTIME         1191789 non-null  datetime64[ns]\n",
      " 24  ARRTIME            1191803 non-null  datetime64[ns]\n",
      " 25  ARRDELAY           1160545 non-null  float64       \n",
      " 26  CRSELAPSEDTIME     1191805 non-null  float64       \n",
      " 27  ACTUALELAPSEDTIME  1191805 non-null  float64       \n",
      " 28  CANCELLED          1191805 non-null  bool          \n",
      " 29  DIVERTED           1191805 non-null  bool          \n",
      " 30  DISTANCE           1191805 non-null  int64         \n",
      "dtypes: bool(2), datetime64[ns](7), float64(6), int64(3), object(13)\n",
      "memory usage: 266.0+ MB\n"
     ]
    }
   ],
   "source": [
    "df.info()\n"
   ]
  },
  {
   "attachments": {},
   "cell_type": "markdown",
   "metadata": {},
   "source": [
    " Se revisa ahora si quedaron vuelos con duración negativa, es posible si los datos originales están corruptos"
   ]
  },
  {
   "cell_type": "code",
   "execution_count": 52,
   "metadata": {},
   "outputs": [
    {
     "data": {
      "text/plain": [
       "0.0"
      ]
     },
     "execution_count": 52,
     "metadata": {},
     "output_type": "execute_result"
    }
   ],
   "source": [
    "# Análisis de valores negativos\n",
    "df.loc[\n",
    "    (df[\"ACTUALELAPSEDTIME\"] < 0) | (df[\"CRSELAPSEDTIME\"] < 0), \"ACTUALELAPSEDTIME\"\n",
    "].sum()\n"
   ]
  },
  {
   "attachments": {},
   "cell_type": "markdown",
   "metadata": {},
   "source": [
    " Todas las duraciones de los vuelos quedaron bien, sin embargo, con fines demostrativos se realiza un análisis de datos atípicos respecto a la duración y distancia de los para determinar si es necesarios eliminar algunos valores"
   ]
  },
  {
   "cell_type": "code",
   "execution_count": 53,
   "metadata": {},
   "outputs": [
    {
     "data": {
      "image/png": "[encoded data removed]",
      "text/plain": [
       "<Figure size 1200x1000 with 2 Axes>"
      ]
     },
     "metadata": {},
     "output_type": "display_data"
    }
   ],
   "source": [
    "# Gráficas de distribución de columnas numéricas\n",
    "plt.figure(figsize=(12, 10))\n",
    "for i, columna in enumerate([\"ACTUALELAPSEDTIME\", \"DISTANCE\"], 1):\n",
    "    plt.subplot(4, 3, i)\n",
    "    sns.histplot(data=df, x=columna, kde=True)\n",
    "    plt.title(f\"Distribución de {columna}\")\n",
    "    plt.xlabel(columna)\n",
    "    plt.ylabel(\"Frecuencia\")\n",
    "plt.tight_layout()\n",
    "plt.show()\n"
   ]
  },
  {
   "cell_type": "code",
   "execution_count": 54,
   "metadata": {},
   "outputs": [
    {
     "name": "stdout",
     "output_type": "stream",
     "text": [
      "Valores atípicos:\n",
      "        Columna Valor atípico  ACTUALELAPSEDTIME  DISTANCE\n",
      "537         NaN           NaN              291.0       NaN\n",
      "1315        NaN           NaN             1430.0       NaN\n",
      "1351        NaN           NaN              325.0       NaN\n",
      "1603        NaN           NaN              310.0       NaN\n",
      "1840        NaN           NaN              292.0       NaN\n",
      "...         ...           ...                ...       ...\n",
      "1191664     NaN           NaN                NaN    1947.0\n",
      "1191694     NaN           NaN                NaN    2172.0\n",
      "1191733     NaN           NaN                NaN    1947.0\n",
      "1191760     NaN           NaN                NaN    2182.0\n",
      "1191789     NaN           NaN                NaN    2139.0\n",
      "\n",
      "[113790 rows x 4 columns]\n"
     ]
    }
   ],
   "source": [
    "# Análisis de valores atípicos\n",
    "atipicos = pd.DataFrame(columns=[\"Columna\", \"Valor atípico\"])\n",
    "\n",
    "# Para identificar los valores atipicos se utiliza el método del rango intercuartil, si conocieramos mejor el contexto\n",
    "# se podría escoger otro método como la media movil u otro método\n",
    "for columna in [\"ACTUALELAPSEDTIME\", \"DISTANCE\"]:\n",
    "    q1 = df[columna].quantile(0.25)\n",
    "    q3 = df[columna].quantile(0.75)\n",
    "    iqr = q3 - q1\n",
    "    limite_inferior = q1 - 1.5 * iqr\n",
    "    limite_superior = q3 + 1.5 * iqr\n",
    "\n",
    "    columna_atipica = df[\n",
    "        (df[columna] < limite_inferior) | (df[columna] > limite_superior)\n",
    "    ]\n",
    "    atipicos = pd.concat([atipicos, columna_atipica[[columna]]])\n",
    "\n",
    "# Se eliminan los valores atípicos\n",
    "df = df[~df.index.isin(atipicos.index)]\n",
    "\n",
    "print(\"Valores atípicos:\")\n",
    "print(atipicos)\n"
   ]
  },
  {
   "attachments": {},
   "cell_type": "markdown",
   "metadata": {},
   "source": [
    " Efectivamente los datos ya tienen una mejor distribución pero como se aclaró anteriormente esto se hace con fines demostrativos, en un caso real se debería tener el contexto de la información para entender estos valores atípicos"
   ]
  },
  {
   "cell_type": "code",
   "execution_count": 55,
   "metadata": {},
   "outputs": [
    {
     "data": {
      "image/png": "[encoded data removed]",
      "text/plain": [
       "<Figure size 1200x1000 with 2 Axes>"
      ]
     },
     "metadata": {},
     "output_type": "display_data"
    }
   ],
   "source": [
    "# Gráficas de distribución de columnas numéricas\n",
    "plt.figure(figsize=(12, 10))\n",
    "for i, columna in enumerate([\"ACTUALELAPSEDTIME\", \"DISTANCE\"], 1):\n",
    "    plt.subplot(4, 3, i)\n",
    "    sns.histplot(data=df, x=columna, kde=True)\n",
    "    plt.title(f\"Distribución de {columna}\")\n",
    "    plt.xlabel(columna)\n",
    "    plt.ylabel(\"Frecuencia\")\n",
    "plt.tight_layout()\n",
    "plt.show()\n"
   ]
  },
  {
   "attachments": {},
   "cell_type": "markdown",
   "metadata": {},
   "source": [
    " Con esto termina el proceso de limpieza del dataset para proceder con la carga y diseño de la BD relacional"
   ]
  },
  {
   "cell_type": "code",
   "execution_count": 56,
   "metadata": {},
   "outputs": [],
   "source": [
    "df.to_parquet(\"datasets/flights_clean.parquet\", engine=\"auto\")\n",
    "del df\n"
   ]
  },
  {
   "attachments": {},
   "cell_type": "markdown",
   "metadata": {},
   "source": [
    " El dataset limpio se guarda en formato parquet que es más eficiente y pesa mucho menos. Se puede correr el notebook para generarlo nuevamente"
   ]
  }
 ],
 "metadata": {
  "kernelspec": {
   "display_name": "Python 3",
   "language": "python",
   "name": "python3"
  },
  "language_info": {
   "codemirror_mode": {
    "name": "ipython",
    "version": 3
   },
   "file_extension": ".py",
   "mimetype": "text/x-python",
   "name": "python",
   "nbconvert_exporter": "python",
   "pygments_lexer": "ipython3",
   "version": "3.10.11"
  },
  "orig_nbformat": 4
 },
 "nbformat": 4,
 "nbformat_minor": 2
}
