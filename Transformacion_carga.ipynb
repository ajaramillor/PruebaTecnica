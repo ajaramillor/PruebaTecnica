{
 "cells": [
  {
   "attachments": {},
   "cell_type": "markdown",
   "metadata": {},
   "source": [
    " # Proceso de carga de datos historicos"
   ]
  },
  {
   "cell_type": "code",
   "execution_count": 2,
   "metadata": {},
   "outputs": [],
   "source": [
    "import pandas as pd\n",
    "import logging\n",
    "import os\n",
    "from google.cloud import bigquery\n",
    "from google.oauth2 import service_account"
   ]
  },
  {
   "attachments": {},
   "cell_type": "markdown",
   "metadata": {},
   "source": [
    " # Configuración del sistema de excepciones y logs"
   ]
  },
  {
   "cell_type": "code",
   "execution_count": 3,
   "metadata": {},
   "outputs": [
    {
     "name": "stderr",
     "output_type": "stream",
     "text": [
      "2023-05-21 21:34:49,314 - INFO - 18 - Prueba de mensaje informativo\n",
      "2023-05-21 21:34:49,322 - WARNING - 19 - Prueba de mensaje de advertencia\n",
      "2023-05-21 21:34:49,325 - ERROR - 20 - Prueba de mensaje de error\n"
     ]
    }
   ],
   "source": [
    "# Crear un directorio de registros si no existe\n",
    "log_dir = \"logs\"\n",
    "os.makedirs(log_dir, exist_ok=True)\n",
    "\n",
    "# Ajustar la configuración de registro\n",
    "log_file = os.path.join(log_dir, \"application_carga.log\")\n",
    "logging.basicConfig(\n",
    "    level=logging.INFO, format=\"%(asctime)s - %(levelname)s - %(lineno)s - %(message)s\"\n",
    ")\n",
    "file_handler = logging.FileHandler(log_file, \"w\")\n",
    "file_handler.setLevel(logging.INFO)\n",
    "file_handler.setFormatter(\n",
    "    logging.Formatter(\"%(asctime)s - %(levelname)s - %(lineno)s - %(message)s\")\n",
    ")\n",
    "logging.getLogger().addHandler(file_handler)\n",
    "\n",
    "logging.debug(\"Prueba de mensaje de depuración\")\n",
    "logging.info(\"Prueba de mensaje informativo\")\n",
    "logging.warning(\"Prueba de mensaje de advertencia\")\n",
    "logging.error(\"Prueba de mensaje de error\")"
   ]
  },
  {
   "attachments": {},
   "cell_type": "markdown",
   "metadata": {},
   "source": [
    " Se carga el archivo parquet con la data limpia y se procede a dividir en varios dataframes para crear las diferentes tablas del modelo."
   ]
  },
  {
   "cell_type": "code",
   "execution_count": 4,
   "metadata": {},
   "outputs": [],
   "source": [
    "df = pd.read_parquet(\"datasets/flights_clean.parquet\", engine=\"auto\")\n",
    "df_estados = pd.read_csv(\"datasets/us_states.tsv\", sep=\"\\t\")"
   ]
  },
  {
   "attachments": {},
   "cell_type": "markdown",
   "metadata": {},
   "source": [
    " Primero se extraen todos los aeropuertos, tanto origen como destino y se crea un solo dataframe con los valores únicos."
   ]
  },
  {
   "cell_type": "code",
   "execution_count": 5,
   "metadata": {},
   "outputs": [],
   "source": [
    "df_aeropuertos_origen = df[[\"ORIGINAIRPORTCODE\",\n",
    "                            \"ORIGAIRPORTNAME\", \"ORIGINCITYNAME\"]]\n",
    "df_aeropuertos_origen = df_aeropuertos_origen.rename(\n",
    "    columns={\n",
    "        \"ORIGINAIRPORTCODE\": \"AIRPORTCODE\",\n",
    "        \"ORIGAIRPORTNAME\": \"AIRPORTNAME\",\n",
    "        \"ORIGINCITYNAME\": \"AIRPORTCITY\",\n",
    "    }\n",
    ")\n",
    "df_aeropuertos_origen = df_aeropuertos_origen.drop_duplicates()\n",
    "df_aeropuertos_destino = df[[\"DESTAIRPORTCODE\",\n",
    "                             \"DESTAIRPORTNAME\", \"DESTCITYNAME\"]]\n",
    "df_aeropuertos_destino = df_aeropuertos_origen.rename(\n",
    "    columns={\n",
    "        \"DESTAIRPORTCODE\": \"AIRPORTCODE\",\n",
    "        \"DESTAIRPORTNAME\": \"AIRPORTNAME\",\n",
    "        \"DESTCITYNAME\": \"AIRPORTCITY\",\n",
    "    }\n",
    ")\n",
    "df_aeropuertos_destino = df_aeropuertos_destino.drop_duplicates()\n",
    "df_aeropuertos = pd.concat([df_aeropuertos_origen, df_aeropuertos_destino])\n",
    "df_aeropuertos = df_aeropuertos.drop_duplicates()"
   ]
  },
  {
   "attachments": {},
   "cell_type": "markdown",
   "metadata": {},
   "source": [
    " Se organiza el dataframe de estados"
   ]
  },
  {
   "cell_type": "code",
   "execution_count": 6,
   "metadata": {},
   "outputs": [],
   "source": [
    "df_estados = df_estados[[\"state\", \"name\"]]\n",
    "df_estados = df_estados.rename(\n",
    "    columns={\"state\": \"STATECODE\", \"name\": \"STATENAME\"})\n",
    "df_estados = df_estados.drop_duplicates()"
   ]
  },
  {
   "attachments": {},
   "cell_type": "markdown",
   "metadata": {},
   "source": [
    " Aerolineas"
   ]
  },
  {
   "cell_type": "code",
   "execution_count": 7,
   "metadata": {},
   "outputs": [],
   "source": [
    "df_aerolineas = df[[\"AIRLINECODE\", \"AIRLINENAME\"]]\n",
    "df_aerolineas = df_aerolineas.drop_duplicates()"
   ]
  },
  {
   "attachments": {},
   "cell_type": "markdown",
   "metadata": {},
   "source": [
    " Vuelos\n",
    " - Para efectos prácticos de la prueba no se subierán los registros del último año para subir estos por medio de la ETL"
   ]
  },
  {
   "cell_type": "code",
   "execution_count": 8,
   "metadata": {},
   "outputs": [],
   "source": [
    "df_vuelos = df.drop(\n",
    "    columns=[\n",
    "        \"ORIGAIRPORTNAME\",\n",
    "        \"ORIGINCITYNAME\",\n",
    "        \"DESTAIRPORTNAME\",\n",
    "        \"DESTCITYNAME\",\n",
    "        \"AIRLINENAME\",\n",
    "        \"ORIGINSTATENAME\",\n",
    "        \"DESTSTATENAME\",\n",
    "    ]\n",
    ")\n",
    "ultimo_ano = df_vuelos[\"FLIGHTDATE\"].dt.year.max()\n",
    "df_vuelos = df_vuelos[df_vuelos[\"FLIGHTDATE\"].dt.year < ultimo_ano]\n",
    "del df"
   ]
  },
  {
   "attachments": {},
   "cell_type": "markdown",
   "metadata": {},
   "source": [
    " Se crea una función para subir datasets a Bigquery"
   ]
  },
  {
   "cell_type": "code",
   "execution_count": 9,
   "metadata": {},
   "outputs": [],
   "source": [
    "json_gcp = \"service_account.json\"\n",
    "credentials = service_account.Credentials.from_service_account_file(\n",
    "    json_gcp, scopes=[\"https://www.googleapis.com/auth/cloud-platform\"]\n",
    ")\n",
    "project = \"pruebatec-387103\"\n",
    "\n",
    "\n",
    "def upload_dataframe_to_bigquery(dataframe, project, table_name):\n",
    "    # Initialize BigQuery client\n",
    "    client = bigquery.Client(credentials=credentials, project=project)\n",
    "\n",
    "    # Create BigQuery load job configuration\n",
    "    job_config = bigquery.LoadJobConfig(\n",
    "        autodetect=True, write_disposition=\"WRITE_TRUNCATE\"\n",
    "    )\n",
    "\n",
    "    # Start BigQuery load job\n",
    "    job = client.load_table_from_dataframe(\n",
    "        dataframe, table_name, job_config=job_config\n",
    "    )  # Make an API request.\n",
    "    job.result()  # Wait for the job to complete.\n",
    "\n",
    "    table = client.get_table(table_name)  # Make an API request.\n",
    "    print(\n",
    "        \"Loaded {} rows and {} columns to {}\".format(\n",
    "            table.num_rows, len(table.schema), table_name\n",
    "        )\n",
    "    )"
   ]
  },
  {
   "attachments": {},
   "cell_type": "markdown",
   "metadata": {},
   "source": [
    " Se suben los dataframes a sus respectivas tablas"
   ]
  },
  {
   "cell_type": "code",
   "execution_count": 10,
   "metadata": {},
   "outputs": [
    {
     "name": "stdout",
     "output_type": "stream",
     "text": [
      "Loaded 26 rows and 2 columns to pruebatec-387103.vuelosnq.DIM_AEROLINEAS\n",
      "Loaded 362 rows and 3 columns to pruebatec-387103.vuelosnq.DIM_AEROPUERTOS\n",
      "Loaded 1091447 rows and 24 columns to pruebatec-387103.vuelosnq.FACT_VUELOS\n"
     ]
    }
   ],
   "source": [
    "upload_dataframe_to_bigquery(\n",
    "    df_aerolineas, project, \"pruebatec-387103.vuelosnq.DIM_AEROLINEAS\"\n",
    ")\n",
    "upload_dataframe_to_bigquery(\n",
    "    df_aeropuertos, project, \"pruebatec-387103.vuelosnq.DIM_AEROPUERTOS\"\n",
    ")\n",
    "upload_dataframe_to_bigquery(\n",
    "    df_vuelos, project, \"pruebatec-387103.vuelosnq.FACT_VUELOS\"\n",
    ")"
   ]
  },
  {
   "attachments": {},
   "cell_type": "markdown",
   "metadata": {},
   "source": [
    " Con esto finaliza el proceso de carga de la información."
   ]
  }
 ],
 "metadata": {
  "kernelspec": {
   "display_name": "Python 3",
   "language": "python",
   "name": "python3"
  },
  "language_info": {
   "codemirror_mode": {
    "name": "ipython",
    "version": 3
   },
   "file_extension": ".py",
   "mimetype": "text/x-python",
   "name": "python",
   "nbconvert_exporter": "python",
   "pygments_lexer": "ipython3",
   "version": "3.10.11"
  },
  "orig_nbformat": 4
 },
 "nbformat": 4,
 "nbformat_minor": 2
}
