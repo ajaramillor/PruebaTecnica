{
 "cells": [
  {
   "attachments": {},
   "cell_type": "markdown",
   "metadata": {},
   "source": [
    "# ETL"
   ]
  },
  {
   "attachments": {},
   "cell_type": "markdown",
   "metadata": {},
   "source": [
    "En este archivo se presenta el proceso ETL que se almacenaría en una Cloud Function y se deja deja listo para correr en local con el fin de ver datos nuevos en la BD,"
   ]
  },
  {
   "cell_type": "code",
   "execution_count": 1,
   "metadata": {},
   "outputs": [],
   "source": [
    "import logging\n",
    "import os\n",
    "\n",
    "from google.cloud import bigquery\n",
    "from google.oauth2 import service_account\n",
    "import pandas as pd\n",
    "import requests"
   ]
  },
  {
   "cell_type": "code",
   "execution_count": 2,
   "metadata": {},
   "outputs": [
    {
     "name": "stderr",
     "output_type": "stream",
     "text": [
      "2023-05-22 01:20:29,989 - INFO - 18 - Prueba de mensaje informativo\n",
      "2023-05-22 01:20:29,993 - WARNING - 19 - Prueba de mensaje de advertencia\n",
      "2023-05-22 01:20:29,995 - ERROR - 20 - Prueba de mensaje de error\n"
     ]
    }
   ],
   "source": [
    "# Crear un directorio de registros si no existe\n",
    "log_dir = \"logs\"\n",
    "os.makedirs(log_dir, exist_ok=True)\n",
    "\n",
    "# Ajustar la configuración de registro\n",
    "log_file = os.path.join(log_dir, \"application_etl.log\")\n",
    "logging.basicConfig(\n",
    "    level=logging.INFO, format=\"%(asctime)s - %(levelname)s - %(lineno)s - %(message)s\"\n",
    ")\n",
    "file_handler = logging.FileHandler(log_file, \"w\")\n",
    "file_handler.setLevel(logging.INFO)\n",
    "file_handler.setFormatter(\n",
    "    logging.Formatter(\"%(asctime)s - %(levelname)s - %(lineno)s - %(message)s\")\n",
    ")\n",
    "logging.getLogger().addHandler(file_handler)\n",
    "\n",
    "logging.debug(\"Prueba de mensaje de depuración\")\n",
    "logging.info(\"Prueba de mensaje informativo\")\n",
    "logging.warning(\"Prueba de mensaje de advertencia\")\n",
    "logging.error(\"Prueba de mensaje de error\")"
   ]
  },
  {
   "attachments": {},
   "cell_type": "markdown",
   "metadata": {},
   "source": [
    "Se carga el archivo original para simular como llegaria la data de la fuente original como una API u otra."
   ]
  },
  {
   "cell_type": "code",
   "execution_count": 3,
   "metadata": {},
   "outputs": [
    {
     "data": {
      "text/html": [
       "<div>\n",
       "<style scoped>\n",
       "    .dataframe tbody tr th:only-of-type {\n",
       "        vertical-align: middle;\n",
       "    }\n",
       "\n",
       "    .dataframe tbody tr th {\n",
       "        vertical-align: top;\n",
       "    }\n",
       "\n",
       "    .dataframe thead th {\n",
       "        text-align: right;\n",
       "    }\n",
       "</style>\n",
       "<table border=\"1\" class=\"dataframe\">\n",
       "  <thead>\n",
       "    <tr style=\"text-align: right;\">\n",
       "      <th></th>\n",
       "      <th>TRANSACTIONID</th>\n",
       "      <th>FLIGHTDATE</th>\n",
       "      <th>AIRLINECODE</th>\n",
       "      <th>AIRLINENAME</th>\n",
       "      <th>TAILNUM</th>\n",
       "      <th>FLIGHTNUM</th>\n",
       "      <th>ORIGINAIRPORTCODE</th>\n",
       "      <th>ORIGAIRPORTNAME</th>\n",
       "      <th>ORIGINCITYNAME</th>\n",
       "      <th>ORIGINSTATE</th>\n",
       "      <th>...</th>\n",
       "      <th>WHEELSON</th>\n",
       "      <th>TAXIIN</th>\n",
       "      <th>CRSARRTIME</th>\n",
       "      <th>ARRTIME</th>\n",
       "      <th>ARRDELAY</th>\n",
       "      <th>CRSELAPSEDTIME</th>\n",
       "      <th>ACTUALELAPSEDTIME</th>\n",
       "      <th>CANCELLED</th>\n",
       "      <th>DIVERTED</th>\n",
       "      <th>DISTANCE</th>\n",
       "    </tr>\n",
       "  </thead>\n",
       "  <tbody>\n",
       "    <tr>\n",
       "      <th>0</th>\n",
       "      <td>54548800</td>\n",
       "      <td>20020101</td>\n",
       "      <td>WN</td>\n",
       "      <td>Southwest Airlines Co.: WN</td>\n",
       "      <td>N103@@</td>\n",
       "      <td>1425</td>\n",
       "      <td>ABQ</td>\n",
       "      <td>AlbuquerqueNM: Albuquerque International Sunport</td>\n",
       "      <td>Albuquerque</td>\n",
       "      <td>NM</td>\n",
       "      <td>...</td>\n",
       "      <td>1648.0</td>\n",
       "      <td>4.0</td>\n",
       "      <td>1655</td>\n",
       "      <td>1652.0</td>\n",
       "      <td>-3.0</td>\n",
       "      <td>90.0</td>\n",
       "      <td>87.0</td>\n",
       "      <td>F</td>\n",
       "      <td>False</td>\n",
       "      <td>580 miles</td>\n",
       "    </tr>\n",
       "    <tr>\n",
       "      <th>1</th>\n",
       "      <td>55872300</td>\n",
       "      <td>20020101</td>\n",
       "      <td>CO</td>\n",
       "      <td>Continental Air Lines Inc.: CO</td>\n",
       "      <td>N83872</td>\n",
       "      <td>150</td>\n",
       "      <td>ABQ</td>\n",
       "      <td>AlbuquerqueNM: Albuquerque International Sunport</td>\n",
       "      <td>Albuquerque</td>\n",
       "      <td>NM</td>\n",
       "      <td>...</td>\n",
       "      <td>1419.0</td>\n",
       "      <td>16.0</td>\n",
       "      <td>1426</td>\n",
       "      <td>1435.0</td>\n",
       "      <td>9.0</td>\n",
       "      <td>116.0</td>\n",
       "      <td>119.0</td>\n",
       "      <td>False</td>\n",
       "      <td>F</td>\n",
       "      <td>744 miles</td>\n",
       "    </tr>\n",
       "    <tr>\n",
       "      <th>2</th>\n",
       "      <td>54388800</td>\n",
       "      <td>20020101</td>\n",
       "      <td>WN</td>\n",
       "      <td>Southwest Airlines Co.: WN</td>\n",
       "      <td>N334@@</td>\n",
       "      <td>249</td>\n",
       "      <td>ABQ</td>\n",
       "      <td>AlbuquerqueNM: Albuquerque International Sunport</td>\n",
       "      <td>Albuquerque</td>\n",
       "      <td>NM</td>\n",
       "      <td>...</td>\n",
       "      <td>1618.0</td>\n",
       "      <td>2.0</td>\n",
       "      <td>1500</td>\n",
       "      <td>1620.0</td>\n",
       "      <td>80.0</td>\n",
       "      <td>105.0</td>\n",
       "      <td>102.0</td>\n",
       "      <td>F</td>\n",
       "      <td>False</td>\n",
       "      <td>718 miles</td>\n",
       "    </tr>\n",
       "    <tr>\n",
       "      <th>3</th>\n",
       "      <td>54486500</td>\n",
       "      <td>20020101</td>\n",
       "      <td>WN</td>\n",
       "      <td>Southwest Airlines Co.: WN</td>\n",
       "      <td>N699@@</td>\n",
       "      <td>902</td>\n",
       "      <td>ABQ</td>\n",
       "      <td>AlbuquerqueNM: Albuquerque International Sunport</td>\n",
       "      <td>Albuquerque</td>\n",
       "      <td>NM</td>\n",
       "      <td>...</td>\n",
       "      <td>1947.0</td>\n",
       "      <td>1.0</td>\n",
       "      <td>1950</td>\n",
       "      <td>1948.0</td>\n",
       "      <td>-2.0</td>\n",
       "      <td>85.0</td>\n",
       "      <td>83.0</td>\n",
       "      <td>0</td>\n",
       "      <td>0</td>\n",
       "      <td>487 miles</td>\n",
       "    </tr>\n",
       "    <tr>\n",
       "      <th>4</th>\n",
       "      <td>55878700</td>\n",
       "      <td>20020103</td>\n",
       "      <td>CO</td>\n",
       "      <td>Continental Air Lines Inc.: CO</td>\n",
       "      <td>N58606</td>\n",
       "      <td>234</td>\n",
       "      <td>ABQ</td>\n",
       "      <td>AlbuquerqueNM: Albuquerque International Sunport</td>\n",
       "      <td>Albuquerque</td>\n",
       "      <td>NM</td>\n",
       "      <td>...</td>\n",
       "      <td>1742.0</td>\n",
       "      <td>5.0</td>\n",
       "      <td>1750</td>\n",
       "      <td>1747.0</td>\n",
       "      <td>-3.0</td>\n",
       "      <td>115.0</td>\n",
       "      <td>114.0</td>\n",
       "      <td>F</td>\n",
       "      <td>False</td>\n",
       "      <td>744 miles</td>\n",
       "    </tr>\n",
       "  </tbody>\n",
       "</table>\n",
       "<p>5 rows × 31 columns</p>\n",
       "</div>"
      ],
      "text/plain": [
       "   TRANSACTIONID  FLIGHTDATE AIRLINECODE                     AIRLINENAME  \\\n",
       "0       54548800    20020101          WN      Southwest Airlines Co.: WN   \n",
       "1       55872300    20020101          CO  Continental Air Lines Inc.: CO   \n",
       "2       54388800    20020101          WN      Southwest Airlines Co.: WN   \n",
       "3       54486500    20020101          WN      Southwest Airlines Co.: WN   \n",
       "4       55878700    20020103          CO  Continental Air Lines Inc.: CO   \n",
       "\n",
       "  TAILNUM  FLIGHTNUM ORIGINAIRPORTCODE  \\\n",
       "0  N103@@       1425               ABQ   \n",
       "1  N83872        150               ABQ   \n",
       "2  N334@@        249               ABQ   \n",
       "3  N699@@        902               ABQ   \n",
       "4  N58606        234               ABQ   \n",
       "\n",
       "                                    ORIGAIRPORTNAME ORIGINCITYNAME  \\\n",
       "0  AlbuquerqueNM: Albuquerque International Sunport    Albuquerque   \n",
       "1  AlbuquerqueNM: Albuquerque International Sunport    Albuquerque   \n",
       "2  AlbuquerqueNM: Albuquerque International Sunport    Albuquerque   \n",
       "3  AlbuquerqueNM: Albuquerque International Sunport    Albuquerque   \n",
       "4  AlbuquerqueNM: Albuquerque International Sunport    Albuquerque   \n",
       "\n",
       "  ORIGINSTATE  ... WHEELSON TAXIIN CRSARRTIME ARRTIME ARRDELAY CRSELAPSEDTIME  \\\n",
       "0          NM  ...   1648.0    4.0       1655  1652.0     -3.0           90.0   \n",
       "1          NM  ...   1419.0   16.0       1426  1435.0      9.0          116.0   \n",
       "2          NM  ...   1618.0    2.0       1500  1620.0     80.0          105.0   \n",
       "3          NM  ...   1947.0    1.0       1950  1948.0     -2.0           85.0   \n",
       "4          NM  ...   1742.0    5.0       1750  1747.0     -3.0          115.0   \n",
       "\n",
       "   ACTUALELAPSEDTIME  CANCELLED  DIVERTED   DISTANCE  \n",
       "0               87.0          F     False  580 miles  \n",
       "1              119.0      False         F  744 miles  \n",
       "2              102.0          F     False  718 miles  \n",
       "3               83.0          0         0  487 miles  \n",
       "4              114.0          F     False  744 miles  \n",
       "\n",
       "[5 rows x 31 columns]"
      ]
     },
     "execution_count": 3,
     "metadata": {},
     "output_type": "execute_result"
    }
   ],
   "source": [
    "# Define la ruta del archivo\n",
    "ruta_archivo = \"datasets/flights.csv\"\n",
    "\n",
    "# Lee el archivo CSV en un DataFrame de pandas, por velocidad se hace con una muestra de 400.000 filas\n",
    "# df = pd.read_csv(ruta_archivo, delimiter=\"|\", nrows = 400000)\n",
    "df = pd.read_csv(ruta_archivo, delimiter=\"|\")\n",
    "\n",
    "# Muestra las primeras filas del DataFrame\n",
    "df.head()"
   ]
  },
  {
   "cell_type": "code",
   "execution_count": 4,
   "metadata": {},
   "outputs": [
    {
     "name": "stderr",
     "output_type": "stream",
     "text": [
      "C:\\Users\\alejo\\AppData\\Local\\Packages\\PythonSoftwareFoundation.Python.3.10_qbz5n2kfra8p0\\LocalCache\\local-packages\\Python310\\site-packages\\pandas\\core\\arrays\\timedeltas.py:908: RuntimeWarning: invalid value encountered in cast\n",
      "  base = data.astype(np.int64)\n",
      "C:\\Users\\alejo\\AppData\\Local\\Packages\\PythonSoftwareFoundation.Python.3.10_qbz5n2kfra8p0\\LocalCache\\local-packages\\Python310\\site-packages\\pandas\\core\\arrays\\timedeltas.py:912: RuntimeWarning: invalid value encountered in cast\n",
      "  data = (base * m + (frac * m).astype(np.int64)).view(\"timedelta64[ns]\")\n"
     ]
    }
   ],
   "source": [
    "try:\n",
    "    # Se convierte la fecha\n",
    "    df[\"FLIGHTDATE\"] = pd.to_datetime(df[\"FLIGHTDATE\"], format=\"%Y%m%d\")\n",
    "\n",
    "    # Se ajusta la columna Distance\n",
    "    df[\"DISTANCE\"] = df[\"DISTANCE\"].str.replace(\" miles\", \"\")\n",
    "    df[\"DISTANCE\"] = pd.to_numeric(df[\"DISTANCE\"], errors=\"raise\")\n",
    "\n",
    "    df[\"DEPDELAY\"] = pd.to_timedelta(\n",
    "        df[\"DEPDELAY\"], unit=\"min\", errors=\"ignore\")\n",
    "    df[\"TAXIOUT\"] = pd.to_timedelta(df[\"TAXIOUT\"], unit=\"min\", errors=\"ignore\")\n",
    "    df[\"TAXIIN\"] = pd.to_timedelta(df[\"TAXIIN\"], unit=\"min\", errors=\"ignore\")\n",
    "    df[\"ARRDELAY\"] = pd.to_timedelta(\n",
    "        df[\"ARRDELAY\"], unit=\"min\", errors=\"ignore\")\n",
    "    df[\"CRSELAPSEDTIME\"] = pd.to_timedelta(\n",
    "        df[\"CRSELAPSEDTIME\"], unit=\"min\", errors=\"ignore\"\n",
    "    )\n",
    "    df[\"ACTUALELAPSEDTIME\"] = pd.to_timedelta(\n",
    "        df[\"ACTUALELAPSEDTIME\"], unit=\"min\", errors=\"ignore\"\n",
    "    )\n",
    "\n",
    "    # Se ajustan las columnas booleanas\n",
    "    df[\"CANCELLED\"] = df[\"CANCELLED\"].map(\n",
    "        {\"0\": False, \"1\": True, \"True\": True, \"False\": False, \"T\": True, \"F\": False}\n",
    "    )\n",
    "    df[\"DIVERTED\"] = df[\"DIVERTED\"].map(\n",
    "        {\"0\": False, \"1\": True, \"True\": True, \"False\": False, \"T\": True, \"F\": False}\n",
    "    )\n",
    "\n",
    "except Exception as e:\n",
    "    logging.exception(f\"Se ha presentado una excepcion: {e}\")"
   ]
  },
  {
   "attachments": {},
   "cell_type": "markdown",
   "metadata": {},
   "source": [
    "Como se dijo en el proceso de carga el último año de información no se cargó para simular que se haría en la ETL, por lo tanto se filtra este en este punto"
   ]
  },
  {
   "cell_type": "code",
   "execution_count": 5,
   "metadata": {},
   "outputs": [],
   "source": [
    "ultimo_ano = df[\"FLIGHTDATE\"].dt.year.max()\n",
    "df = df[df[\"FLIGHTDATE\"].dt.year == ultimo_ano]"
   ]
  },
  {
   "cell_type": "code",
   "execution_count": 6,
   "metadata": {},
   "outputs": [],
   "source": [
    "# Convertir columnas a formato fecha hora\n",
    "columnas_hora = [\n",
    "    \"CRSDEPTIME\",\n",
    "    \"DEPTIME\",\n",
    "    \"WHEELSOFF\",\n",
    "    \"WHEELSON\",\n",
    "    \"CRSARRTIME\",\n",
    "    \"ARRTIME\",\n",
    "]\n",
    "for columna in columnas_hora:\n",
    "    if df[columna].isnull().sum() == 0:\n",
    "        df[columna] = df[columna].astype(str).str.zfill(4)\n",
    "        df[columna] = pd.to_datetime(\n",
    "            df[columna], errors=\"coerce\", format=\"%H%M\"\n",
    "        ).dt.time\n",
    "        df[columna] = (\n",
    "            df[\"FLIGHTDATE\"].dt.strftime(\"%Y-%m-%d\") + \" \" + df[columna].apply(str)\n",
    "        )\n",
    "        df[columna] = pd.to_datetime(df[columna], errors=\"coerce\")"
   ]
  },
  {
   "cell_type": "code",
   "execution_count": 7,
   "metadata": {},
   "outputs": [],
   "source": [
    "# Crear un diccionario de mapeo entre DESTAIRPORTCODE y DESTSTATE\n",
    "codigos = df.set_index(\"DESTAIRPORTCODE\")[\"DESTSTATE\"].to_dict()\n",
    "\n",
    "# Rellenar los valores faltantes en ORIGINSTATE usando el diccionario de mapeo\n",
    "df[\"ORIGINSTATE\"] = df[\"ORIGINSTATE\"].fillna(df[\"ORIGINAIRPORTCODE\"].map(codigos))"
   ]
  },
  {
   "cell_type": "code",
   "execution_count": 8,
   "metadata": {},
   "outputs": [],
   "source": [
    "url = \"https://airport-info.p.rapidapi.com/airport\"\n",
    "\n",
    "\n",
    "def airport_info(airport_code, url):\n",
    "    url = url\n",
    "\n",
    "    querystring = {\"iata\": airport_code}\n",
    "\n",
    "    headers = {\n",
    "        \"X-RapidAPI-Key\": \"6f294ed6f0mshd9fbb45d9c15ffbp112336jsn9ed08e8c22a6\",\n",
    "        \"X-RapidAPI-Host\": \"airport-info.p.rapidapi.com\",\n",
    "    }\n",
    "    try:\n",
    "        response = requests.get(url, headers=headers, params=querystring)\n",
    "\n",
    "    except Exception as e:\n",
    "        logging.exception(\n",
    "            f\"Se ha presentado una excepcion al consultar la API: {e}\")\n",
    "        return\n",
    "\n",
    "    print(response.json())\n",
    "\n",
    "    return response"
   ]
  },
  {
   "cell_type": "code",
   "execution_count": 9,
   "metadata": {},
   "outputs": [
    {
     "name": "stdout",
     "output_type": "stream",
     "text": [
      "{'id': 5548, 'iata': 'OKC', 'icao': 'KOKC', 'name': 'Will Rogers World Airport', 'location': 'Oklahoma City, Oklahoma, United States', 'street_number': '7100', 'street': 'Terminal Drive', 'city': 'Oklahoma City', 'county': '', 'state': 'Oklahoma', 'country_iso': 'US', 'country': 'United States', 'postal_code': '73159', 'phone': '+1 405-316-3200', 'latitude': 35.393055, 'longitude': -97.600555, 'uct': -300, 'website': 'http://www.flyokc.com/'}\n",
      "{'id': 7645, 'iata': 'TUL', 'icao': 'KTUL', 'name': 'Tulsa International Airport', 'location': 'Tulsa, Oklahoma, United States', 'street_number': '7777', 'street': 'East Apache Street', 'city': 'Tulsa', 'county': 'Tulsa County', 'state': 'Oklahoma', 'country_iso': 'US', 'country': 'United States', 'postal_code': '74115', 'phone': '+1 918-838-5000', 'latitude': 36.198776, 'longitude': -95.883865, 'uct': -300, 'website': 'http://www.tulsaairports.com/'}\n",
      "{'id': 3125, 'iata': 'ICT', 'icao': 'KICT', 'name': 'Wichita Dwight D. Eisenhower National Airport', 'location': 'Wichita, Kansas, United States', 'street_number': '2277', 'street': 'Eisenhower Airport Parkway', 'city': 'Wichita', 'county': 'Sedgwick County', 'state': 'Kansas', 'country_iso': 'US', 'country': 'United States', 'postal_code': '67209', 'phone': '+1 316-946-4700', 'latitude': 37.650852, 'longitude': -97.428696, 'uct': -300, 'website': 'http://www.flywichita.com/'}\n",
      "{'id': 4043, 'iata': 'LAW', 'icao': 'KLAW', 'name': 'Lawton–Fort Sill Regional Airport', 'location': 'Lawton, Oklahoma, United States', 'street_number': '3401', 'street': 'Southwest 11th Street', 'city': 'Lawton', 'county': 'Comanche County', 'state': 'Oklahoma', 'country_iso': 'US', 'country': 'United States', 'postal_code': '73501', 'phone': '+1 580-353-4869', 'latitude': 34.572662, 'longitude': -98.41592, 'uct': -300, 'website': 'http://www.flylawton.org/'}\n",
      "{'id': 3087, 'iata': 'HYS', 'icao': 'KHYS', 'name': 'Hays Regional Airport', 'location': 'Hays, Kansas, United States', 'street_number': '13-3950', 'street': 'East 8th Street', 'city': 'Hays', 'county': 'Ellis County', 'state': 'Kansas', 'country_iso': 'US', 'country': 'United States', 'postal_code': '67601', 'phone': '+1 785-628-7370', 'latitude': 38.85391, 'longitude': -99.27379, 'uct': -300, 'website': 'http://www.flyhays.com/'}\n"
     ]
    }
   ],
   "source": [
    "# Filtrar el diccionario para obtener solo las claves con valor NaN\n",
    "codigos_faltantes = {key: value for key, value in codigos.items() if pd.isna(value)}\n",
    "\n",
    "codigos_completos = {}\n",
    "\n",
    "for key in codigos_faltantes:\n",
    "    codigos_completos[key] = (airport_info(key,url)).json()[\"state\"]"
   ]
  },
  {
   "cell_type": "code",
   "execution_count": 10,
   "metadata": {},
   "outputs": [],
   "source": [
    "df[\"ORIGINSTATENAME\"] = df[\"ORIGINSTATENAME\"].fillna(\n",
    "    df[\"ORIGINAIRPORTCODE\"].map(codigos_completos)\n",
    ")\n",
    "df[\"DESTSTATENAME\"] = df[\"DESTSTATENAME\"].fillna(\n",
    "    df[\"DESTAIRPORTCODE\"].map(codigos_completos)\n",
    ")"
   ]
  },
  {
   "cell_type": "code",
   "execution_count": 11,
   "metadata": {},
   "outputs": [],
   "source": [
    "# Se carga el dataset\n",
    "df_estados = pd.read_csv(\"datasets/us_states.tsv\", sep=\"\\t\")\n",
    "\n",
    "# Se extraen los estados y su abreviatura\n",
    "abreviaturas = df_estados.set_index(\"name\")[\"state\"].to_dict()\n",
    "\n",
    "# Se elimina el dataset para liberar memoria\n",
    "del df_estados"
   ]
  },
  {
   "cell_type": "code",
   "execution_count": 12,
   "metadata": {},
   "outputs": [],
   "source": [
    "df[\"ORIGINSTATE\"] = df[\"ORIGINSTATE\"].fillna(df[\"ORIGINSTATENAME\"].map(abreviaturas))\n",
    "df[\"DESTSTATE\"] = df[\"DESTSTATE\"].fillna(df[\"DESTSTATENAME\"].map(abreviaturas))"
   ]
  },
  {
   "cell_type": "code",
   "execution_count": 13,
   "metadata": {},
   "outputs": [],
   "source": [
    "# Convertir columnas a formato fecha hora\n",
    "columnas_hora = [\"DEPTIME\"]\n",
    "for columna in columnas_hora:\n",
    "    df[columna] = df[columna].astype(\"Int64\").astype(str)\n",
    "    df[columna] = df[columna].fillna(df[\"CRSDEPTIME\"])\n",
    "    df[columna] = df[columna].astype(str).str.zfill(4)\n",
    "    df[columna] = pd.to_datetime(\n",
    "        df[columna], errors=\"coerce\", format=\"%H%M\").dt.time\n",
    "    df[columna] = (\n",
    "        df[\"FLIGHTDATE\"].dt.strftime(\"%Y-%m-%d\") + \" \" + df[columna].apply(str)\n",
    "    )\n",
    "    df[columna] = pd.to_datetime(df[columna], errors=\"coerce\")\n",
    "    df.loc[(df[columna].isnull()) & (df[\"DEPDELAY\"].isnull()), columna] = df[\n",
    "        \"CRSDEPTIME\"\n",
    "    ]\n",
    "    df.loc[(df[columna].isnull()) & (df[\"DEPDELAY\"].notnull()), columna] = (\n",
    "        df[\"CRSDEPTIME\"] + df[\"DEPDELAY\"]\n",
    "    )\n",
    "\n",
    "columnas_hora = [\"ARRTIME\"]\n",
    "for columna in columnas_hora:\n",
    "    df[columna] = df[columna].astype(\"Int64\").astype(str)\n",
    "    df[columna] = df[columna].astype(str).str.zfill(4)\n",
    "    df[columna] = pd.to_datetime(\n",
    "        df[columna], errors=\"coerce\", format=\"%H%M\").dt.time\n",
    "    df[columna] = (\n",
    "        df[\"FLIGHTDATE\"].dt.strftime(\"%Y-%m-%d\") + \" \" + df[columna].apply(str)\n",
    "    )\n",
    "    df[columna] = pd.to_datetime(df[columna], errors=\"coerce\")\n",
    "    df.loc[(df[columna].isnull()) & (df[\"ARRDELAY\"].isnull()), columna] = df[\n",
    "        \"CRSARRTIME\"\n",
    "    ]\n",
    "    df.loc[(df[columna].isnull()) & (df[\"ARRDELAY\"].notnull()), columna] = (\n",
    "        df[\"CRSARRTIME\"] + df[\"ARRDELAY\"]\n",
    "    )\n",
    "\n",
    "\n",
    "columnas_hora = [\"WHEELSOFF\"]\n",
    "for columna in columnas_hora:\n",
    "    df[columna] = df[columna].astype(\"Int64\").astype(str)\n",
    "    df[columna] = df[columna].astype(str).str.zfill(4)\n",
    "    df[columna] = pd.to_datetime(\n",
    "        df[columna], errors=\"coerce\", format=\"%H%M\").dt.time\n",
    "    df[columna] = (\n",
    "        df[\"FLIGHTDATE\"].dt.strftime(\"%Y-%m-%d\") + \" \" + df[columna].apply(str)\n",
    "    )\n",
    "    df[columna] = pd.to_datetime(df[columna], errors=\"coerce\")\n",
    "    df.loc[df[columna].isnull(), columna] = df[\"DEPTIME\"] + df[\"TAXIOUT\"]\n",
    "\n",
    "columnas_hora = [\"WHEELSON\"]\n",
    "for columna in columnas_hora:\n",
    "    df[columna] = df[columna].astype(\"Int64\").astype(str)\n",
    "    df[columna] = df[columna].astype(str).str.zfill(4)\n",
    "    df[columna] = pd.to_datetime(\n",
    "        df[columna], errors=\"coerce\", format=\"%H%M\").dt.time\n",
    "    df[columna] = (\n",
    "        df[\"FLIGHTDATE\"].dt.strftime(\"%Y-%m-%d\") + \" \" + df[columna].apply(str)\n",
    "    )\n",
    "    df[columna] = pd.to_datetime(df[columna], errors=\"coerce\")\n",
    "    df.loc[df[columna].isnull(), columna] = df[\"ARRTIME\"] - df[\"TAXIIN\"]\n",
    "\n",
    "df[\"DEPDELAY\"] = df[\"DEPDELAY\"].dt.total_seconds() / 60\n",
    "df[\"TAXIOUT\"] = df[\"TAXIOUT\"].dt.total_seconds() / 60\n",
    "df[\"TAXIIN\"] = df[\"TAXIIN\"].dt.total_seconds() / 60\n",
    "df[\"ARRDELAY\"] = df[\"ARRDELAY\"].dt.total_seconds() / 60\n",
    "df[\"CRSELAPSEDTIME\"] = df[\"CRSELAPSEDTIME\"].dt.total_seconds() / 60\n",
    "df[\"ACTUALELAPSEDTIME\"] = df[\"ACTUALELAPSEDTIME\"].dt.total_seconds() / 60"
   ]
  },
  {
   "cell_type": "code",
   "execution_count": 14,
   "metadata": {},
   "outputs": [],
   "source": [
    "def arreglar_fecha(row):\n",
    "    if row[\"WHEELSOFF\"] < row[\"CRSDEPTIME\"]:\n",
    "        row[\"WHEELSOFF\"] = row[\"WHEELSOFF\"] + pd.to_timedelta(\n",
    "            1, unit=\"day\", errors=\"ignore\"\n",
    "        )\n",
    "        row[\"WHEELSON\"] = row[\"WHEELSON\"] + pd.to_timedelta(\n",
    "            1, unit=\"day\", errors=\"ignore\"\n",
    "        )\n",
    "        row[\"CRSARRTIME\"] = row[\"CRSARRTIME\"] + pd.to_timedelta(\n",
    "            1, unit=\"day\", errors=\"ignore\"\n",
    "        )\n",
    "        row[\"ARRTIME\"] = row[\"ARRTIME\"] + pd.to_timedelta(\n",
    "            1, unit=\"day\", errors=\"ignore\"\n",
    "        )\n",
    "        return row\n",
    "    elif row[\"WHEELSON\"] < row[\"WHEELSOFF\"]:\n",
    "        row[\"WHEELSON\"] = row[\"WHEELSON\"] + pd.to_timedelta(\n",
    "            1, unit=\"day\", errors=\"ignore\"\n",
    "        )\n",
    "        row[\"CRSARRTIME\"] = row[\"CRSARRTIME\"] + pd.to_timedelta(\n",
    "            1, unit=\"day\", errors=\"ignore\"\n",
    "        )\n",
    "        row[\"ARRTIME\"] = row[\"ARRTIME\"] + pd.to_timedelta(\n",
    "            1, unit=\"day\", errors=\"ignore\"\n",
    "        )\n",
    "        return row\n",
    "    elif row[\"ARRTIME\"] < row[\"WHEELSON\"]:\n",
    "        row[\"CRSARRTIME\"] = row[\"CRSARRTIME\"] + pd.to_timedelta(\n",
    "            1, unit=\"day\", errors=\"ignore\"\n",
    "        )\n",
    "        row[\"ARRTIME\"] = row[\"ARRTIME\"] + pd.to_timedelta(\n",
    "            1, unit=\"day\", errors=\"ignore\"\n",
    "        )\n",
    "        return row\n",
    "    elif row[\"ARRTIME\"] < row[\"WHEELSOFF\"]:\n",
    "        row[\"ARRTIME\"] = row[\"ARRTIME\"] + pd.to_timedelta(\n",
    "            1, unit=\"day\", errors=\"ignore\"\n",
    "        )\n",
    "        return row\n",
    "    elif row[\"CRSARRTIME\"] < row[\"WHEELSOFF\"]:\n",
    "        row[\"CRSARRTIME\"] = row[\"CRSARRTIME\"] + pd.to_timedelta(\n",
    "            1, unit=\"day\", errors=\"ignore\"\n",
    "        )\n",
    "        return row\n",
    "    elif row[\"ARRTIME\"] < row[\"DEPTIME\"]:\n",
    "        row[\"ARRTIME\"] = row[\"ARRTIME\"] + pd.to_timedelta(\n",
    "            1, unit=\"day\", errors=\"ignore\"\n",
    "        )\n",
    "\n",
    "    return row"
   ]
  },
  {
   "cell_type": "code",
   "execution_count": 15,
   "metadata": {},
   "outputs": [],
   "source": [
    "df = df.apply(lambda row: arreglar_fecha(row), axis=1)"
   ]
  },
  {
   "cell_type": "code",
   "execution_count": 16,
   "metadata": {},
   "outputs": [],
   "source": [
    "df.loc[df[\"CRSELAPSEDTIME\"].isnull(), \"CRSELAPSEDTIME\"] = (\n",
    "    pd.to_timedelta(\n",
    "        df[\"CRSARRTIME\"] - df[\"CRSDEPTIME\"], unit=\"min\", errors=\"ignore\"\n",
    "    ).dt.total_seconds()\n",
    "    / 60\n",
    ")\n",
    "df.loc[df[\"ACTUALELAPSEDTIME\"].isnull(), \"ACTUALELAPSEDTIME\"] = (\n",
    "    pd.to_timedelta(\n",
    "        df[\"ARRTIME\"] - df[\"DEPTIME\"], unit=\"min\", errors=\"ignore\"\n",
    "    ).dt.total_seconds()\n",
    "    / 60\n",
    ")"
   ]
  },
  {
   "cell_type": "code",
   "execution_count": 17,
   "metadata": {},
   "outputs": [],
   "source": [
    "df_aeropuertos_origen = df[[\"ORIGINAIRPORTCODE\",\n",
    "                            \"ORIGAIRPORTNAME\", \"ORIGINCITYNAME\"]]\n",
    "df_aeropuertos_origen = df_aeropuertos_origen.rename(\n",
    "    columns={\n",
    "        \"ORIGINAIRPORTCODE\": \"AIRPORTCODE\",\n",
    "        \"ORIGAIRPORTNAME\": \"AIRPORTNAME\",\n",
    "        \"ORIGINCITYNAME\": \"AIRPORTCITY\",\n",
    "    }\n",
    ")\n",
    "df_aeropuertos_origen = df_aeropuertos_origen.drop_duplicates()\n",
    "df_aeropuertos_destino = df[[\"DESTAIRPORTCODE\",\n",
    "                             \"DESTAIRPORTNAME\", \"DESTCITYNAME\"]]\n",
    "df_aeropuertos_destino = df_aeropuertos_origen.rename(\n",
    "    columns={\n",
    "        \"DESTAIRPORTCODE\": \"AIRPORTCODE\",\n",
    "        \"DESTAIRPORTNAME\": \"AIRPORTNAME\",\n",
    "        \"DESTCITYNAME\": \"AIRPORTCITY\",\n",
    "    }\n",
    ")\n",
    "df_aeropuertos_destino = df_aeropuertos_destino.drop_duplicates()\n",
    "df_aeropuertos = pd.concat([df_aeropuertos_origen, df_aeropuertos_destino])\n",
    "df_aeropuertos = df_aeropuertos.drop_duplicates()"
   ]
  },
  {
   "cell_type": "code",
   "execution_count": 18,
   "metadata": {},
   "outputs": [],
   "source": [
    "df_aerolineas = df[[\"AIRLINECODE\", \"AIRLINENAME\"]]\n",
    "df_aerolineas = df_aerolineas.drop_duplicates()"
   ]
  },
  {
   "cell_type": "code",
   "execution_count": 19,
   "metadata": {},
   "outputs": [],
   "source": [
    "df_vuelos = df.drop(\n",
    "    columns=[\n",
    "        \"ORIGAIRPORTNAME\",\n",
    "        \"ORIGINCITYNAME\",\n",
    "        \"DESTAIRPORTNAME\",\n",
    "        \"DESTCITYNAME\",\n",
    "        \"AIRLINENAME\",\n",
    "        \"ORIGINSTATENAME\",\n",
    "        \"DESTSTATENAME\",\n",
    "    ]\n",
    ")\n",
    "ultimo_ano = df_vuelos[\"FLIGHTDATE\"].dt.year.max()\n",
    "df_vuelos = df_vuelos[df_vuelos[\"FLIGHTDATE\"].dt.year == ultimo_ano]\n",
    "del df"
   ]
  },
  {
   "cell_type": "code",
   "execution_count": 20,
   "metadata": {},
   "outputs": [],
   "source": [
    "json_gcp = \"service_account.json\"\n",
    "credentials = service_account.Credentials.from_service_account_file(\n",
    "    json_gcp, scopes=[\"https://www.googleapis.com/auth/cloud-platform\"]\n",
    ")\n",
    "project = \"pruebatec-387103\"\n",
    "\n",
    "\n",
    "def upload_dataframe_to_bigquery(dataframe, project, table_name):\n",
    "    # Initialize BigQuery client\n",
    "    client = bigquery.Client(credentials=credentials, project=project)\n",
    "\n",
    "    # Create BigQuery load job configuration\n",
    "    job_config = bigquery.LoadJobConfig(\n",
    "        autodetect=True, write_disposition=\"WRITE_APPEND\",\n",
    "    )\n",
    "\n",
    "    # Start BigQuery load job\n",
    "    job = client.load_table_from_dataframe(\n",
    "        dataframe, table_name, job_config=job_config\n",
    "    )  # Make an API request.\n",
    "    job.result()  # Wait for the job to complete.\n",
    "\n",
    "    table = client.get_table(table_name)  # Make an API request.\n",
    "    print(\n",
    "        \"Loaded {} rows and {} columns to {}\".format(\n",
    "            table.num_rows, len(table.schema), table_name\n",
    "        )\n",
    "    )"
   ]
  },
  {
   "attachments": {},
   "cell_type": "markdown",
   "metadata": {},
   "source": [
    "Se define una función adicional para ejecutar querys desde Python en Bigquery por medio de la API de google."
   ]
  },
  {
   "cell_type": "code",
   "execution_count": 21,
   "metadata": {},
   "outputs": [],
   "source": [
    "project = \"pruebatec-387103\"\n",
    "\n",
    "\n",
    "def query_bigquery(query, project):\n",
    "    client = bigquery.Client(credentials=credentials, project=project)\n",
    "\n",
    "    try:\n",
    "        query_job = client.query(query)\n",
    "\n",
    "        results = query_job.result()  # Waits for job to complete.\n",
    "\n",
    "        print(results)\n",
    "\n",
    "    except Exception as e:\n",
    "        logging.exception(f\"Se ha presentado una excepcion al hacer query a BQ: {e}\")"
   ]
  },
  {
   "attachments": {},
   "cell_type": "markdown",
   "metadata": {},
   "source": [
    "Para evitar que se duplique data en la tabla de vuelos se procede a hacer una inserción delta, es decir, se eliminan datos cuya fecha coincida con la de la nueva data que se va a agregar."
   ]
  },
  {
   "cell_type": "code",
   "execution_count": 23,
   "metadata": {},
   "outputs": [
    {
     "name": "stdout",
     "output_type": "stream",
     "text": [
      "<google.cloud.bigquery.table._EmptyRowIterator object at 0x0000029451604940>\n"
     ]
    }
   ],
   "source": [
    "query_eliminar_vuelos = f\"\"\"DELETE FROM `pruebatec-387103.vuelosnq.FACT_VUELOS` WHERE EXTRACT(YEAR FROM FLIGTHDATE)={ultimo_ano}\"\"\"\n",
    "\n",
    "query_eliminar_vuelos = f\"\"\"CREATE OR REPLACE TABLE `pruebatec-387103.vuelosnq.FACT_VUELOS` AS (\n",
    "SELECT * FROM `pruebatec-387103.vuelosnq.FACT_VUELOS` WHERE EXTRACT(YEAR FROM FLIGHTDATE)!={ultimo_ano})\"\"\"\n",
    "\n",
    "query_bigquery(query_eliminar_vuelos, project)"
   ]
  },
  {
   "attachments": {},
   "cell_type": "markdown",
   "metadata": {},
   "source": [
    "Como la cuenta de GCP está en modo Sandbox no es posible realizar querys DML y la primera query no se puede ejecutar, por lo tanto se hace la siguiente query, menos eficiente y más costosa pero el resultado es el mismo."
   ]
  },
  {
   "cell_type": "code",
   "execution_count": 24,
   "metadata": {},
   "outputs": [
    {
     "name": "stdout",
     "output_type": "stream",
     "text": [
      "Loaded 38 rows and 2 columns to pruebatec-387103.vuelosnq.DIM_AEROLINEAS\n",
      "Loaded 660 rows and 3 columns to pruebatec-387103.vuelosnq.DIM_AEROPUERTOS\n",
      "Loaded 1128454 rows and 24 columns to pruebatec-387103.vuelosnq.FACT_VUELOS\n"
     ]
    }
   ],
   "source": [
    "upload_dataframe_to_bigquery(\n",
    "    df_aerolineas, project, \"pruebatec-387103.vuelosnq.DIM_AEROLINEAS\"\n",
    ")\n",
    "upload_dataframe_to_bigquery(\n",
    "    df_aeropuertos, project, \"pruebatec-387103.vuelosnq.DIM_AEROPUERTOS\"\n",
    ")\n",
    "upload_dataframe_to_bigquery(\n",
    "    df_vuelos, project, \"pruebatec-387103.vuelosnq.FACT_VUELOS\"\n",
    ")"
   ]
  },
  {
   "attachments": {},
   "cell_type": "markdown",
   "metadata": {},
   "source": [
    "Después de subir los nuevos registros para aeropuertos y aerolineas se hace una limpieza para eliminar duplicados"
   ]
  },
  {
   "cell_type": "code",
   "execution_count": 25,
   "metadata": {},
   "outputs": [
    {
     "name": "stdout",
     "output_type": "stream",
     "text": [
      "<google.cloud.bigquery.table._EmptyRowIterator object at 0x00000294515B2590>\n",
      "<google.cloud.bigquery.table._EmptyRowIterator object at 0x0000029451604910>\n"
     ]
    }
   ],
   "source": [
    "query_eliminar_duplicados_aerolineas = \"\"\"CREATE OR REPLACE TABLE `pruebatec-387103.vuelosnq.DIM_AEROLINEAS` AS (\n",
    "SELECT DISTINCT * FROM `pruebatec-387103.vuelosnq.DIM_AEROLINEAS`)\"\"\"\n",
    "\n",
    "query_bigquery(query_eliminar_duplicados_aerolineas, project)\n",
    "\n",
    "query_eliminar_duplicados_aeropuertos = \"\"\"CREATE OR REPLACE TABLE `pruebatec-387103.vuelosnq.DIM_AEROPUERTOS` AS (\n",
    "SELECT DISTINCT * FROM `pruebatec-387103.vuelosnq.DIM_AEROPUERTOS`)\"\"\"\n",
    "\n",
    "query_bigquery(query_eliminar_duplicados_aeropuertos, project)"
   ]
  },
  {
   "attachments": {},
   "cell_type": "markdown",
   "metadata": {},
   "source": [
    "Se actualiza la tabla que se conectará directamente al dashboard"
   ]
  },
  {
   "cell_type": "code",
   "execution_count": 26,
   "metadata": {},
   "outputs": [
    {
     "name": "stdout",
     "output_type": "stream",
     "text": [
      "<google.cloud.bigquery.table._EmptyRowIterator object at 0x0000029441288D00>\n"
     ]
    }
   ],
   "source": [
    "query_dashboard = f\"\"\"CREATE OR REPLACE TABLE `pruebatec-387103.vuelosnq.DASHBOARD` AS (\n",
    "SELECT T1.*,T2.AIRLINENAME,T3.AIRPORTNAME AS ORIGINAIRPORTNAME,T3.AIRPORTCITY AS ORIGINAIRPOTCITY,T4.AIRPORTNAME AS DESTAIRPORTNAME,\n",
    "T4.AIRPORTCITY AS DESTAIRPORTCITY,T5.STATENAME AS ORIGINSTATENAME, T6.STATENAME AS DESTSTATENAME\n",
    "FROM `pruebatec-387103.vuelosnq.FACT_VUELOS` T1\n",
    "LEFT JOIN `pruebatec-387103.vuelosnq.DIM_AEROLINEAS` T2 USING(AIRLINECODE)\n",
    "LEFT JOIN `pruebatec-387103.vuelosnq.DIM_AEROPUERTOS` T3 ON T1.ORIGINAIRPORTCODE=T3.AIRPORTCODE\n",
    "LEFT JOIN `pruebatec-387103.vuelosnq.DIM_AEROPUERTOS` T4 ON T1.DESTAIRPORTCODE=T4.AIRPORTCODE\n",
    "LEFT JOIN `pruebatec-387103.vuelosnq.DIM_ESTADOS` T5 ON T1.ORIGINSTATE=T5.STATECODE\n",
    "LEFT JOIN `pruebatec-387103.vuelosnq.DIM_ESTADOS` T6 ON T1.DESTSTATE=T6.STATECODE\n",
    ")\"\"\"\n",
    "\n",
    "query_bigquery(query_dashboard, project)"
   ]
  },
  {
   "attachments": {},
   "cell_type": "markdown",
   "metadata": {},
   "source": [
    "Con esto finaliza el proceso ETL"
   ]
  }
 ],
 "metadata": {
  "kernelspec": {
   "display_name": "Python 3",
   "language": "python",
   "name": "python3"
  },
  "language_info": {
   "codemirror_mode": {
    "name": "ipython",
    "version": 3
   },
   "file_extension": ".py",
   "mimetype": "text/x-python",
   "name": "python",
   "nbconvert_exporter": "python",
   "pygments_lexer": "ipython3",
   "version": "3.10.11"
  },
  "orig_nbformat": 4
 },
 "nbformat": 4,
 "nbformat_minor": 2
}
